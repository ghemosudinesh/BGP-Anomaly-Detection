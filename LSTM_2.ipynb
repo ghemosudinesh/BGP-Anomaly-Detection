{
 "cells": [
  {
   "cell_type": "code",
   "execution_count": 1,
   "id": "1fac16a0",
   "metadata": {},
   "outputs": [
    {
     "name": "stderr",
     "output_type": "stream",
     "text": [
      "2023-08-26 17:15:07.385480: I tensorflow/core/platform/cpu_feature_guard.cc:182] This TensorFlow binary is optimized to use available CPU instructions in performance-critical operations.\n",
      "To enable the following instructions: AVX2 AVX512F FMA, in other operations, rebuild TensorFlow with the appropriate compiler flags.\n",
      "2023-08-26 17:15:08.256909: W tensorflow/compiler/tf2tensorrt/utils/py_utils.cc:38] TF-TRT Warning: Could not find TensorRT\n"
     ]
    }
   ],
   "source": [
    "import numpy as np\n",
    "import matplotlib.pyplot as plt\n",
    "import pandas as pd\n",
    "\n",
    "from keras.models import Sequential\n",
    "from keras.layers import Dense, LSTM, Dropout, Flatten, Input\n",
    "\n",
    "from sklearn.model_selection import train_test_split\n",
    "from sklearn.model_selection import cross_val_predict, cross_val_score\n",
    "from sklearn import metrics\n",
    "from sklearn.metrics import accuracy_score,confusion_matrix, roc_curve, roc_auc_score, auc, classification_report\n",
    "from sklearn.preprocessing import MinMaxScaler\n",
    "\n",
    "from sklearn.metrics import mean_squared_error, mean_absolute_error, r2_score\n",
    "\n",
    "\n",
    "from keras.layers import Conv2D, MaxPooling2D\n",
    "from keras.layers import Conv2D, Conv1D, MaxPooling2D, MaxPooling1D, BatchNormalization\n",
    "\n",
    "from keras.utils import plot_model\n",
    "from keras import backend as K\n",
    "import keras\n",
    "\n",
    "%matplotlib  inline\n",
    "\n",
    "#random seed\n",
    "np.random.seed(42)"
   ]
  },
  {
   "cell_type": "code",
   "execution_count": 2,
   "id": "2cb5eef2",
   "metadata": {},
   "outputs": [],
   "source": [
    "df = pd.read_csv(\"writeData.csv\")"
   ]
  },
  {
   "cell_type": "code",
   "execution_count": 3,
   "id": "c9afdcba",
   "metadata": {},
   "outputs": [
    {
     "data": {
      "text/html": [
       "<div>\n",
       "<style scoped>\n",
       "    .dataframe tbody tr th:only-of-type {\n",
       "        vertical-align: middle;\n",
       "    }\n",
       "\n",
       "    .dataframe tbody tr th {\n",
       "        vertical-align: top;\n",
       "    }\n",
       "\n",
       "    .dataframe thead th {\n",
       "        text-align: right;\n",
       "    }\n",
       "</style>\n",
       "<table border=\"1\" class=\"dataframe\">\n",
       "  <thead>\n",
       "    <tr style=\"text-align: right;\">\n",
       "      <th></th>\n",
       "      <th>Unnamed: 0</th>\n",
       "      <th>78</th>\n",
       "      <th>235</th>\n",
       "      <th>4.1</th>\n",
       "      <th>22</th>\n",
       "      <th>2</th>\n",
       "      <th>219</th>\n",
       "      <th>0</th>\n",
       "      <th>22.1</th>\n",
       "      <th>69</th>\n",
       "      <th>287</th>\n",
       "      <th>1</th>\n",
       "    </tr>\n",
       "  </thead>\n",
       "  <tbody>\n",
       "    <tr>\n",
       "      <th>0</th>\n",
       "      <td>0</td>\n",
       "      <td>264</td>\n",
       "      <td>1468</td>\n",
       "      <td>23</td>\n",
       "      <td>22</td>\n",
       "      <td>10</td>\n",
       "      <td>581</td>\n",
       "      <td>1</td>\n",
       "      <td>22</td>\n",
       "      <td>255</td>\n",
       "      <td>338</td>\n",
       "      <td>1</td>\n",
       "    </tr>\n",
       "    <tr>\n",
       "      <th>1</th>\n",
       "      <td>1</td>\n",
       "      <td>94</td>\n",
       "      <td>192</td>\n",
       "      <td>16</td>\n",
       "      <td>12</td>\n",
       "      <td>11</td>\n",
       "      <td>141</td>\n",
       "      <td>3</td>\n",
       "      <td>12</td>\n",
       "      <td>93</td>\n",
       "      <td>247</td>\n",
       "      <td>1</td>\n",
       "    </tr>\n",
       "    <tr>\n",
       "      <th>2</th>\n",
       "      <td>2</td>\n",
       "      <td>124</td>\n",
       "      <td>434</td>\n",
       "      <td>136</td>\n",
       "      <td>16</td>\n",
       "      <td>4</td>\n",
       "      <td>234</td>\n",
       "      <td>21</td>\n",
       "      <td>16</td>\n",
       "      <td>105</td>\n",
       "      <td>318</td>\n",
       "      <td>1</td>\n",
       "    </tr>\n",
       "    <tr>\n",
       "      <th>3</th>\n",
       "      <td>3</td>\n",
       "      <td>105</td>\n",
       "      <td>251</td>\n",
       "      <td>34</td>\n",
       "      <td>14</td>\n",
       "      <td>16</td>\n",
       "      <td>301</td>\n",
       "      <td>9</td>\n",
       "      <td>14</td>\n",
       "      <td>89</td>\n",
       "      <td>263</td>\n",
       "      <td>1</td>\n",
       "    </tr>\n",
       "    <tr>\n",
       "      <th>4</th>\n",
       "      <td>4</td>\n",
       "      <td>80</td>\n",
       "      <td>374</td>\n",
       "      <td>10</td>\n",
       "      <td>11</td>\n",
       "      <td>106</td>\n",
       "      <td>233</td>\n",
       "      <td>3</td>\n",
       "      <td>11</td>\n",
       "      <td>76</td>\n",
       "      <td>305</td>\n",
       "      <td>1</td>\n",
       "    </tr>\n",
       "  </tbody>\n",
       "</table>\n",
       "</div>"
      ],
      "text/plain": [
       "   Unnamed: 0   78   235  4.1  22    2  219   0  22.1   69  287  1\n",
       "0           0  264  1468   23  22   10  581   1    22  255  338  1\n",
       "1           1   94   192   16  12   11  141   3    12   93  247  1\n",
       "2           2  124   434  136  16    4  234  21    16  105  318  1\n",
       "3           3  105   251   34  14   16  301   9    14   89  263  1\n",
       "4           4   80   374   10  11  106  233   3    11   76  305  1"
      ]
     },
     "execution_count": 3,
     "metadata": {},
     "output_type": "execute_result"
    }
   ],
   "source": [
    "df.head()"
   ]
  },
  {
   "cell_type": "code",
   "execution_count": 4,
   "id": "f2b2ae96",
   "metadata": {},
   "outputs": [
    {
     "name": "stdout",
     "output_type": "stream",
     "text": [
      "Shape of dataset:  (7199, 12)\n"
     ]
    }
   ],
   "source": [
    "print(\"Shape of dataset: \",df.shape)"
   ]
  },
  {
   "cell_type": "code",
   "execution_count": 5,
   "id": "2bd6a958",
   "metadata": {},
   "outputs": [
    {
     "data": {
      "text/plain": [
       "Index(['Unnamed: 0', '78', '235', '4.1', '22', '2', '219', '0', '22.1', '69',\n",
       "       '287', '1'],\n",
       "      dtype='object')"
      ]
     },
     "execution_count": 5,
     "metadata": {},
     "output_type": "execute_result"
    }
   ],
   "source": [
    "df.columns"
   ]
  },
  {
   "cell_type": "code",
   "execution_count": 6,
   "id": "66e07d17",
   "metadata": {},
   "outputs": [
    {
     "data": {
      "text/plain": [
       "array([ 1, -1])"
      ]
     },
     "execution_count": 6,
     "metadata": {},
     "output_type": "execute_result"
    }
   ],
   "source": [
    "df['1'].unique()"
   ]
  },
  {
   "cell_type": "code",
   "execution_count": 7,
   "id": "01eed47f",
   "metadata": {},
   "outputs": [
    {
     "data": {
      "text/plain": [
       "0"
      ]
     },
     "execution_count": 7,
     "metadata": {},
     "output_type": "execute_result"
    }
   ],
   "source": [
    "# checking null values\n",
    "df.isnull().sum().sum()"
   ]
  },
  {
   "cell_type": "code",
   "execution_count": 8,
   "id": "6c32e18a",
   "metadata": {},
   "outputs": [
    {
     "data": {
      "text/plain": [
       "array([ 1, -1])"
      ]
     },
     "execution_count": 8,
     "metadata": {},
     "output_type": "execute_result"
    }
   ],
   "source": [
    "# after removing nan values\n",
    "df['1'].unique()"
   ]
  },
  {
   "cell_type": "code",
   "execution_count": 9,
   "id": "841f7ed0",
   "metadata": {},
   "outputs": [
    {
     "data": {
      "text/plain": [
       "1\n",
       " 1    7064\n",
       "-1     135\n",
       "Name: count, dtype: int64"
      ]
     },
     "execution_count": 9,
     "metadata": {},
     "output_type": "execute_result"
    }
   ],
   "source": [
    "df['1'].value_counts()"
   ]
  },
  {
   "cell_type": "code",
   "execution_count": 10,
   "id": "3a53ab58",
   "metadata": {},
   "outputs": [
    {
     "data": {
      "text/plain": [
       "1\n",
       "-1    7064\n",
       " 1     135\n",
       "Name: count, dtype: int64"
      ]
     },
     "execution_count": 10,
     "metadata": {},
     "output_type": "execute_result"
    }
   ],
   "source": [
    "df['1'] = df['1']*-1\n",
    "df['1'].value_counts()"
   ]
  },
  {
   "cell_type": "code",
   "execution_count": 11,
   "id": "77600aa0",
   "metadata": {},
   "outputs": [
    {
     "name": "stdout",
     "output_type": "stream",
     "text": [
      "length of dataset:  7199\n"
     ]
    }
   ],
   "source": [
    "print(\"length of dataset: \", len(df))"
   ]
  },
  {
   "cell_type": "code",
   "execution_count": 12,
   "id": "95a03414",
   "metadata": {},
   "outputs": [
    {
     "data": {
      "text/plain": [
       "Unnamed: 0    0\n",
       "78            0\n",
       "235           0\n",
       "4.1           0\n",
       "22            0\n",
       "2             0\n",
       "219           0\n",
       "0             0\n",
       "22.1          0\n",
       "69            0\n",
       "287           0\n",
       "1             0\n",
       "dtype: int64"
      ]
     },
     "execution_count": 12,
     "metadata": {},
     "output_type": "execute_result"
    }
   ],
   "source": [
    "# checking null values\n",
    "df.isnull().sum()"
   ]
  },
  {
   "cell_type": "code",
   "execution_count": 13,
   "id": "806d3a7a",
   "metadata": {},
   "outputs": [
    {
     "data": {
      "text/plain": [
       "Unnamed: 0    int64\n",
       "78            int64\n",
       "235           int64\n",
       "4.1           int64\n",
       "22            int64\n",
       "2             int64\n",
       "219           int64\n",
       "0             int64\n",
       "22.1          int64\n",
       "69            int64\n",
       "287           int64\n",
       "1             int64\n",
       "dtype: object"
      ]
     },
     "execution_count": 13,
     "metadata": {},
     "output_type": "execute_result"
    }
   ],
   "source": [
    "df.dtypes"
   ]
  },
  {
   "cell_type": "code",
   "execution_count": 14,
   "id": "155c6c0d",
   "metadata": {},
   "outputs": [],
   "source": [
    "y = df['1'].values\n",
    "X = df.drop(columns = [\"Unnamed: 0\", \"1\"]).values"
   ]
  },
  {
   "cell_type": "code",
   "execution_count": 15,
   "id": "3b50c875",
   "metadata": {},
   "outputs": [
    {
     "data": {
      "text/plain": [
       "((7199, 10), (7199,))"
      ]
     },
     "execution_count": 15,
     "metadata": {},
     "output_type": "execute_result"
    }
   ],
   "source": [
    "X.shape, y.shape"
   ]
  },
  {
   "cell_type": "code",
   "execution_count": 16,
   "id": "137de4ed",
   "metadata": {},
   "outputs": [],
   "source": [
    "# Noramlize X values in the range (0,1)\n",
    "sc = MinMaxScaler(feature_range = (0, 1))\n",
    "X_scaled = sc.fit_transform(X)\n"
   ]
  },
  {
   "cell_type": "code",
   "execution_count": 17,
   "id": "3eed84e8",
   "metadata": {},
   "outputs": [
    {
     "data": {
      "text/plain": [
       "(7199, 10)"
      ]
     },
     "execution_count": 17,
     "metadata": {},
     "output_type": "execute_result"
    }
   ],
   "source": [
    "X_scaled.shape"
   ]
  },
  {
   "cell_type": "code",
   "execution_count": 18,
   "id": "98633314",
   "metadata": {},
   "outputs": [
    {
     "data": {
      "text/plain": [
       "2"
      ]
     },
     "execution_count": 18,
     "metadata": {},
     "output_type": "execute_result"
    }
   ],
   "source": [
    "num_classes = len(np.unique(y))\n",
    "num_classes"
   ]
  },
  {
   "cell_type": "code",
   "execution_count": 19,
   "id": "c19a898d",
   "metadata": {},
   "outputs": [],
   "source": [
    "# Reshape the data for LSTM (samples, timesteps, features)\n",
    "sequence_length = 10 # Number of timesteps\n",
    "X_seq = np.array([X_scaled[i:i+sequence_length, :] for i in range(len(X_scaled) - sequence_length + 1)])\n",
    "y_seq = y[sequence_length - 1:]"
   ]
  },
  {
   "cell_type": "code",
   "execution_count": 20,
   "id": "fe72198b",
   "metadata": {},
   "outputs": [
    {
     "data": {
      "text/plain": [
       "((7190, 10, 10), (7190,))"
      ]
     },
     "execution_count": 20,
     "metadata": {},
     "output_type": "execute_result"
    }
   ],
   "source": [
    "X_seq.shape, y_seq.shape"
   ]
  },
  {
   "cell_type": "code",
   "execution_count": 21,
   "id": "d284d1b1",
   "metadata": {},
   "outputs": [],
   "source": [
    "# train test split\n",
    "X_train, X_test, y_train, y_test = train_test_split(X_seq, y_seq, test_size=0.15, random_state = 42)"
   ]
  },
  {
   "cell_type": "code",
   "execution_count": 22,
   "id": "d0a267e3",
   "metadata": {},
   "outputs": [
    {
     "name": "stdout",
     "output_type": "stream",
     "text": [
      "Shape of X_train:  (6111, 10, 10)\n",
      "Shape of X_test:  (1079, 10, 10)\n",
      "Shape of y_train:  (6111,)\n",
      "Shape of y_test:  (1079,)\n"
     ]
    }
   ],
   "source": [
    "print(\"Shape of X_train: \", X_train.shape)\n",
    "print(\"Shape of X_test: \", X_test.shape)\n",
    "print(\"Shape of y_train: \", y_train.shape)\n",
    "print(\"Shape of y_test: \", y_test.shape)\n"
   ]
  },
  {
   "cell_type": "code",
   "execution_count": 23,
   "id": "8642723d",
   "metadata": {},
   "outputs": [
    {
     "name": "stdout",
     "output_type": "stream",
     "text": [
      "Shape of X_train:  (6111, 10, 10)\n",
      "Shape of X_test:  (1079, 10, 10)\n",
      "Shape of y_train:  (6111,)\n",
      "Shape of y_test:  (1079,)\n"
     ]
    }
   ],
   "source": [
    "# After reshaping\n",
    "print(\"Shape of X_train: \", X_train.shape)\n",
    "print(\"Shape of X_test: \", X_test.shape)\n",
    "print(\"Shape of y_train: \", y_train.shape)\n",
    "print(\"Shape of y_test: \", y_test.shape)\n"
   ]
  },
  {
   "cell_type": "code",
   "execution_count": 24,
   "id": "bad5afd9",
   "metadata": {},
   "outputs": [],
   "source": [
    "# Now we shuffle the training set because we will be using the validation_split option later when training.\n",
    "idx = np.random.permutation(len(X_train))\n",
    "X_train = X_train[idx]\n",
    "y_train = y_train[idx]"
   ]
  },
  {
   "cell_type": "code",
   "execution_count": 25,
   "id": "c0c193a4",
   "metadata": {},
   "outputs": [],
   "source": [
    "# Standardize the labels to positive integers. The expected labels will then be 0 and 1.\n",
    "y_train[y_train == -1] = 0\n",
    "y_test[y_test == -1] = 0\n"
   ]
  },
  {
   "cell_type": "code",
   "execution_count": 26,
   "id": "a7791683",
   "metadata": {},
   "outputs": [
    {
     "data": {
      "text/plain": [
       "((10, 10), 10)"
      ]
     },
     "execution_count": 26,
     "metadata": {},
     "output_type": "execute_result"
    }
   ],
   "source": [
    "X_train.shape[1:], X_train.shape[2]"
   ]
  },
  {
   "cell_type": "code",
   "execution_count": null,
   "id": "3f5868f0",
   "metadata": {},
   "outputs": [],
   "source": []
  },
  {
   "cell_type": "code",
   "execution_count": 27,
   "id": "db8780d7",
   "metadata": {},
   "outputs": [
    {
     "data": {
      "text/plain": [
       "(10, 10)"
      ]
     },
     "execution_count": 27,
     "metadata": {},
     "output_type": "execute_result"
    }
   ],
   "source": [
    "input_shape = X_train.shape[1:]\n",
    "input_shape"
   ]
  },
  {
   "cell_type": "code",
   "execution_count": 28,
   "id": "5a87b413",
   "metadata": {},
   "outputs": [
    {
     "name": "stderr",
     "output_type": "stream",
     "text": [
      "2023-08-26 17:15:13.519501: I tensorflow/compiler/xla/stream_executor/cuda/cuda_gpu_executor.cc:996] successful NUMA node read from SysFS had negative value (-1), but there must be at least one NUMA node, so returning NUMA node zero. See more at https://github.com/torvalds/linux/blob/v6.0/Documentation/ABI/testing/sysfs-bus-pci#L344-L355\n",
      "2023-08-26 17:15:13.587642: I tensorflow/compiler/xla/stream_executor/cuda/cuda_gpu_executor.cc:996] successful NUMA node read from SysFS had negative value (-1), but there must be at least one NUMA node, so returning NUMA node zero. See more at https://github.com/torvalds/linux/blob/v6.0/Documentation/ABI/testing/sysfs-bus-pci#L344-L355\n",
      "2023-08-26 17:15:13.587932: I tensorflow/compiler/xla/stream_executor/cuda/cuda_gpu_executor.cc:996] successful NUMA node read from SysFS had negative value (-1), but there must be at least one NUMA node, so returning NUMA node zero. See more at https://github.com/torvalds/linux/blob/v6.0/Documentation/ABI/testing/sysfs-bus-pci#L344-L355\n",
      "2023-08-26 17:15:13.590168: I tensorflow/compiler/xla/stream_executor/cuda/cuda_gpu_executor.cc:996] successful NUMA node read from SysFS had negative value (-1), but there must be at least one NUMA node, so returning NUMA node zero. See more at https://github.com/torvalds/linux/blob/v6.0/Documentation/ABI/testing/sysfs-bus-pci#L344-L355\n",
      "2023-08-26 17:15:13.590415: I tensorflow/compiler/xla/stream_executor/cuda/cuda_gpu_executor.cc:996] successful NUMA node read from SysFS had negative value (-1), but there must be at least one NUMA node, so returning NUMA node zero. See more at https://github.com/torvalds/linux/blob/v6.0/Documentation/ABI/testing/sysfs-bus-pci#L344-L355\n",
      "2023-08-26 17:15:13.590598: I tensorflow/compiler/xla/stream_executor/cuda/cuda_gpu_executor.cc:996] successful NUMA node read from SysFS had negative value (-1), but there must be at least one NUMA node, so returning NUMA node zero. See more at https://github.com/torvalds/linux/blob/v6.0/Documentation/ABI/testing/sysfs-bus-pci#L344-L355\n",
      "2023-08-26 17:15:13.705563: I tensorflow/compiler/xla/stream_executor/cuda/cuda_gpu_executor.cc:996] successful NUMA node read from SysFS had negative value (-1), but there must be at least one NUMA node, so returning NUMA node zero. See more at https://github.com/torvalds/linux/blob/v6.0/Documentation/ABI/testing/sysfs-bus-pci#L344-L355\n",
      "2023-08-26 17:15:13.705836: I tensorflow/compiler/xla/stream_executor/cuda/cuda_gpu_executor.cc:996] successful NUMA node read from SysFS had negative value (-1), but there must be at least one NUMA node, so returning NUMA node zero. See more at https://github.com/torvalds/linux/blob/v6.0/Documentation/ABI/testing/sysfs-bus-pci#L344-L355\n",
      "2023-08-26 17:15:13.706021: I tensorflow/compiler/xla/stream_executor/cuda/cuda_gpu_executor.cc:996] successful NUMA node read from SysFS had negative value (-1), but there must be at least one NUMA node, so returning NUMA node zero. See more at https://github.com/torvalds/linux/blob/v6.0/Documentation/ABI/testing/sysfs-bus-pci#L344-L355\n",
      "2023-08-26 17:15:13.706210: I tensorflow/core/common_runtime/gpu/gpu_device.cc:1635] Created device /job:localhost/replica:0/task:0/device:GPU:0 with 10252 MB memory:  -> device: 0, name: NVIDIA GeForce RTX 3080 Ti, pci bus id: 0000:00:10.0, compute capability: 8.6\n",
      "2023-08-26 17:15:14.303506: I tensorflow/core/common_runtime/executor.cc:1197] [/device:CPU:0] (DEBUG INFO) Executor start aborting (this does not indicate an error and you can ignore this message): INVALID_ARGUMENT: You must feed a value for placeholder tensor 'gradients/split_2_grad/concat/split_2/split_dim' with dtype int32\n",
      "\t [[{{node gradients/split_2_grad/concat/split_2/split_dim}}]]\n",
      "2023-08-26 17:15:14.304831: I tensorflow/core/common_runtime/executor.cc:1197] [/device:CPU:0] (DEBUG INFO) Executor start aborting (this does not indicate an error and you can ignore this message): INVALID_ARGUMENT: You must feed a value for placeholder tensor 'gradients/split_grad/concat/split/split_dim' with dtype int32\n",
      "\t [[{{node gradients/split_grad/concat/split/split_dim}}]]\n",
      "2023-08-26 17:15:14.307281: I tensorflow/core/common_runtime/executor.cc:1197] [/device:CPU:0] (DEBUG INFO) Executor start aborting (this does not indicate an error and you can ignore this message): INVALID_ARGUMENT: You must feed a value for placeholder tensor 'gradients/split_1_grad/concat/split_1/split_dim' with dtype int32\n",
      "\t [[{{node gradients/split_1_grad/concat/split_1/split_dim}}]]\n",
      "2023-08-26 17:15:14.537439: I tensorflow/core/common_runtime/executor.cc:1197] [/device:CPU:0] (DEBUG INFO) Executor start aborting (this does not indicate an error and you can ignore this message): INVALID_ARGUMENT: You must feed a value for placeholder tensor 'gradients/split_2_grad/concat/split_2/split_dim' with dtype int32\n",
      "\t [[{{node gradients/split_2_grad/concat/split_2/split_dim}}]]\n",
      "2023-08-26 17:15:14.539172: I tensorflow/core/common_runtime/executor.cc:1197] [/device:CPU:0] (DEBUG INFO) Executor start aborting (this does not indicate an error and you can ignore this message): INVALID_ARGUMENT: You must feed a value for placeholder tensor 'gradients/split_grad/concat/split/split_dim' with dtype int32\n",
      "\t [[{{node gradients/split_grad/concat/split/split_dim}}]]\n",
      "2023-08-26 17:15:14.541121: I tensorflow/core/common_runtime/executor.cc:1197] [/device:CPU:0] (DEBUG INFO) Executor start aborting (this does not indicate an error and you can ignore this message): INVALID_ARGUMENT: You must feed a value for placeholder tensor 'gradients/split_1_grad/concat/split_1/split_dim' with dtype int32\n",
      "\t [[{{node gradients/split_1_grad/concat/split_1/split_dim}}]]\n"
     ]
    },
    {
     "data": {
      "image/png": "[encoded data removed]",
      "text/plain": [
       "<IPython.core.display.Image object>"
      ]
     },
     "execution_count": 28,
     "metadata": {},
     "output_type": "execute_result"
    }
   ],
   "source": [
    "# Create an LSTM model with two hidden layers and dropout\n",
    "model = Sequential()\n",
    "model.add(LSTM(64, input_shape=(X_train.shape[1], X_train.shape[2]), return_sequences=True))\n",
    "model.add(Dropout(0.2))  # Dropout for the first LSTM layer\n",
    "\n",
    "model.add(LSTM(64))\n",
    "model.add(Dropout(0.2))  # Dropout for the second LSTM layer\n",
    "model.add(Dense(1, activation='sigmoid'))\n",
    "model.compile(loss='binary_crossentropy', optimizer='adam', metrics=['accuracy'])\n",
    "\n",
    "plot_model(model, to_file=\"LSTM_model_feature_selection.png\", show_shapes=True)"
   ]
  },
  {
   "cell_type": "code",
   "execution_count": 29,
   "id": "0b30f2c7",
   "metadata": {},
   "outputs": [
    {
     "name": "stdout",
     "output_type": "stream",
     "text": [
      "Model: \"sequential\"\n",
      "_________________________________________________________________\n",
      " Layer (type)                Output Shape              Param #   \n",
      "=================================================================\n",
      " lstm (LSTM)                 (None, 10, 64)            19200     \n",
      "                                                                 \n",
      " dropout (Dropout)           (None, 10, 64)            0         \n",
      "                                                                 \n",
      " lstm_1 (LSTM)               (None, 64)                33024     \n",
      "                                                                 \n",
      " dropout_1 (Dropout)         (None, 64)                0         \n",
      "                                                                 \n",
      " dense (Dense)               (None, 1)                 65        \n",
      "                                                                 \n",
      "=================================================================\n",
      "Total params: 52,289\n",
      "Trainable params: 52,289\n",
      "Non-trainable params: 0\n",
      "_________________________________________________________________\n"
     ]
    }
   ],
   "source": [
    "model.summary()"
   ]
  },
  {
   "cell_type": "markdown",
   "id": "8184fa15",
   "metadata": {},
   "source": [
    "# Train the model"
   ]
  },
  {
   "cell_type": "code",
   "execution_count": 30,
   "id": "289069a9",
   "metadata": {},
   "outputs": [
    {
     "name": "stdout",
     "output_type": "stream",
     "text": [
      "Epoch 1/500\n"
     ]
    },
    {
     "name": "stderr",
     "output_type": "stream",
     "text": [
      "2023-08-26 17:15:15.341080: I tensorflow/core/common_runtime/executor.cc:1197] [/device:CPU:0] (DEBUG INFO) Executor start aborting (this does not indicate an error and you can ignore this message): INVALID_ARGUMENT: You must feed a value for placeholder tensor 'gradients/split_2_grad/concat/split_2/split_dim' with dtype int32\n",
      "\t [[{{node gradients/split_2_grad/concat/split_2/split_dim}}]]\n",
      "2023-08-26 17:15:15.342774: I tensorflow/core/common_runtime/executor.cc:1197] [/device:CPU:0] (DEBUG INFO) Executor start aborting (this does not indicate an error and you can ignore this message): INVALID_ARGUMENT: You must feed a value for placeholder tensor 'gradients/split_grad/concat/split/split_dim' with dtype int32\n",
      "\t [[{{node gradients/split_grad/concat/split/split_dim}}]]\n",
      "2023-08-26 17:15:15.344660: I tensorflow/core/common_runtime/executor.cc:1197] [/device:CPU:0] (DEBUG INFO) Executor start aborting (this does not indicate an error and you can ignore this message): INVALID_ARGUMENT: You must feed a value for placeholder tensor 'gradients/split_1_grad/concat/split_1/split_dim' with dtype int32\n",
      "\t [[{{node gradients/split_1_grad/concat/split_1/split_dim}}]]\n",
      "2023-08-26 17:15:15.566551: I tensorflow/core/common_runtime/executor.cc:1197] [/device:CPU:0] (DEBUG INFO) Executor start aborting (this does not indicate an error and you can ignore this message): INVALID_ARGUMENT: You must feed a value for placeholder tensor 'gradients/split_2_grad/concat/split_2/split_dim' with dtype int32\n",
      "\t [[{{node gradients/split_2_grad/concat/split_2/split_dim}}]]\n",
      "2023-08-26 17:15:15.568509: I tensorflow/core/common_runtime/executor.cc:1197] [/device:CPU:0] (DEBUG INFO) Executor start aborting (this does not indicate an error and you can ignore this message): INVALID_ARGUMENT: You must feed a value for placeholder tensor 'gradients/split_grad/concat/split/split_dim' with dtype int32\n",
      "\t [[{{node gradients/split_grad/concat/split/split_dim}}]]\n",
      "2023-08-26 17:15:15.570233: I tensorflow/core/common_runtime/executor.cc:1197] [/device:CPU:0] (DEBUG INFO) Executor start aborting (this does not indicate an error and you can ignore this message): INVALID_ARGUMENT: You must feed a value for placeholder tensor 'gradients/split_1_grad/concat/split_1/split_dim' with dtype int32\n",
      "\t [[{{node gradients/split_1_grad/concat/split_1/split_dim}}]]\n",
      "2023-08-26 17:15:16.630735: I tensorflow/core/common_runtime/executor.cc:1197] [/device:CPU:0] (DEBUG INFO) Executor start aborting (this does not indicate an error and you can ignore this message): INVALID_ARGUMENT: You must feed a value for placeholder tensor 'gradients/split_2_grad/concat/split_2/split_dim' with dtype int32\n",
      "\t [[{{node gradients/split_2_grad/concat/split_2/split_dim}}]]\n",
      "2023-08-26 17:15:16.633361: I tensorflow/core/common_runtime/executor.cc:1197] [/device:CPU:0] (DEBUG INFO) Executor start aborting (this does not indicate an error and you can ignore this message): INVALID_ARGUMENT: You must feed a value for placeholder tensor 'gradients/split_grad/concat/split/split_dim' with dtype int32\n",
      "\t [[{{node gradients/split_grad/concat/split/split_dim}}]]\n",
      "2023-08-26 17:15:16.634984: I tensorflow/core/common_runtime/executor.cc:1197] [/device:CPU:0] (DEBUG INFO) Executor start aborting (this does not indicate an error and you can ignore this message): INVALID_ARGUMENT: You must feed a value for placeholder tensor 'gradients/split_1_grad/concat/split_1/split_dim' with dtype int32\n",
      "\t [[{{node gradients/split_1_grad/concat/split_1/split_dim}}]]\n",
      "2023-08-26 17:15:16.851866: I tensorflow/core/common_runtime/executor.cc:1197] [/device:CPU:0] (DEBUG INFO) Executor start aborting (this does not indicate an error and you can ignore this message): INVALID_ARGUMENT: You must feed a value for placeholder tensor 'gradients/split_2_grad/concat/split_2/split_dim' with dtype int32\n",
      "\t [[{{node gradients/split_2_grad/concat/split_2/split_dim}}]]\n",
      "2023-08-26 17:15:16.853714: I tensorflow/core/common_runtime/executor.cc:1197] [/device:CPU:0] (DEBUG INFO) Executor start aborting (this does not indicate an error and you can ignore this message): INVALID_ARGUMENT: You must feed a value for placeholder tensor 'gradients/split_grad/concat/split/split_dim' with dtype int32\n",
      "\t [[{{node gradients/split_grad/concat/split/split_dim}}]]\n",
      "2023-08-26 17:15:16.855457: I tensorflow/core/common_runtime/executor.cc:1197] [/device:CPU:0] (DEBUG INFO) Executor start aborting (this does not indicate an error and you can ignore this message): INVALID_ARGUMENT: You must feed a value for placeholder tensor 'gradients/split_1_grad/concat/split_1/split_dim' with dtype int32\n",
      "\t [[{{node gradients/split_1_grad/concat/split_1/split_dim}}]]\n",
      "2023-08-26 17:15:17.944231: I tensorflow/compiler/xla/stream_executor/cuda/cuda_dnn.cc:424] Loaded cuDNN version 8600\n",
      "2023-08-26 17:15:18.056532: I tensorflow/compiler/xla/stream_executor/cuda/cuda_blas.cc:637] TensorFloat-32 will be used for the matrix multiplication. This will only be logged once.\n",
      "2023-08-26 17:15:18.067691: I tensorflow/compiler/xla/service/service.cc:169] XLA service 0x940c830 initialized for platform CUDA (this does not guarantee that XLA will be used). Devices:\n",
      "2023-08-26 17:15:18.067731: I tensorflow/compiler/xla/service/service.cc:177]   StreamExecutor device (0): NVIDIA GeForce RTX 3080 Ti, Compute Capability 8.6\n",
      "2023-08-26 17:15:18.075120: I tensorflow/compiler/mlir/tensorflow/utils/dump_mlir_util.cc:269] disabling MLIR crash reproducer, set env var `MLIR_CRASH_REPRODUCER_DIRECTORY` to enable.\n",
      "2023-08-26 17:15:18.306057: I ./tensorflow/compiler/jit/device_compiler.h:180] Compiled cluster using XLA!  This line is logged at most once for the lifetime of the process.\n"
     ]
    },
    {
     "name": "stdout",
     "output_type": "stream",
     "text": [
      "151/153 [============================>.] - ETA: 0s - loss: 0.0324 - accuracy: 0.9770"
     ]
    },
    {
     "name": "stderr",
     "output_type": "stream",
     "text": [
      "2023-08-26 17:15:21.017442: I tensorflow/core/common_runtime/executor.cc:1197] [/device:CPU:0] (DEBUG INFO) Executor start aborting (this does not indicate an error and you can ignore this message): INVALID_ARGUMENT: You must feed a value for placeholder tensor 'gradients/split_2_grad/concat/split_2/split_dim' with dtype int32\n",
      "\t [[{{node gradients/split_2_grad/concat/split_2/split_dim}}]]\n",
      "2023-08-26 17:15:21.019610: I tensorflow/core/common_runtime/executor.cc:1197] [/device:CPU:0] (DEBUG INFO) Executor start aborting (this does not indicate an error and you can ignore this message): INVALID_ARGUMENT: You must feed a value for placeholder tensor 'gradients/split_grad/concat/split/split_dim' with dtype int32\n",
      "\t [[{{node gradients/split_grad/concat/split/split_dim}}]]\n",
      "2023-08-26 17:15:21.021461: I tensorflow/core/common_runtime/executor.cc:1197] [/device:CPU:0] (DEBUG INFO) Executor start aborting (this does not indicate an error and you can ignore this message): INVALID_ARGUMENT: You must feed a value for placeholder tensor 'gradients/split_1_grad/concat/split_1/split_dim' with dtype int32\n",
      "\t [[{{node gradients/split_1_grad/concat/split_1/split_dim}}]]\n",
      "2023-08-26 17:15:21.218368: I tensorflow/core/common_runtime/executor.cc:1197] [/device:CPU:0] (DEBUG INFO) Executor start aborting (this does not indicate an error and you can ignore this message): INVALID_ARGUMENT: You must feed a value for placeholder tensor 'gradients/split_2_grad/concat/split_2/split_dim' with dtype int32\n",
      "\t [[{{node gradients/split_2_grad/concat/split_2/split_dim}}]]\n",
      "2023-08-26 17:15:21.219817: I tensorflow/core/common_runtime/executor.cc:1197] [/device:CPU:0] (DEBUG INFO) Executor start aborting (this does not indicate an error and you can ignore this message): INVALID_ARGUMENT: You must feed a value for placeholder tensor 'gradients/split_grad/concat/split/split_dim' with dtype int32\n",
      "\t [[{{node gradients/split_grad/concat/split/split_dim}}]]\n",
      "2023-08-26 17:15:21.221876: I tensorflow/core/common_runtime/executor.cc:1197] [/device:CPU:0] (DEBUG INFO) Executor start aborting (this does not indicate an error and you can ignore this message): INVALID_ARGUMENT: You must feed a value for placeholder tensor 'gradients/split_1_grad/concat/split_1/split_dim' with dtype int32\n",
      "\t [[{{node gradients/split_1_grad/concat/split_1/split_dim}}]]\n"
     ]
    },
    {
     "name": "stdout",
     "output_type": "stream",
     "text": [
      "153/153 [==============================] - 7s 19ms/step - loss: 0.0321 - accuracy: 0.9773 - val_loss: 0.0180 - val_accuracy: 0.9820\n",
      "Epoch 2/500\n",
      "153/153 [==============================] - 2s 14ms/step - loss: 0.0184 - accuracy: 0.9816 - val_loss: 0.0178 - val_accuracy: 0.9820\n",
      "Epoch 3/500\n",
      "153/153 [==============================] - 2s 14ms/step - loss: 0.0181 - accuracy: 0.9816 - val_loss: 0.0176 - val_accuracy: 0.9820\n",
      "Epoch 4/500\n",
      "153/153 [==============================] - 2s 13ms/step - loss: 0.0180 - accuracy: 0.9816 - val_loss: 0.0176 - val_accuracy: 0.9820\n",
      "Epoch 5/500\n",
      "153/153 [==============================] - 2s 13ms/step - loss: 0.0180 - accuracy: 0.9816 - val_loss: 0.0175 - val_accuracy: 0.9820\n",
      "Epoch 6/500\n",
      "153/153 [==============================] - 2s 14ms/step - loss: 0.0180 - accuracy: 0.9816 - val_loss: 0.0176 - val_accuracy: 0.9820\n",
      "Epoch 7/500\n",
      "153/153 [==============================] - 2s 14ms/step - loss: 0.0181 - accuracy: 0.9816 - val_loss: 0.0178 - val_accuracy: 0.9820\n",
      "Epoch 8/500\n",
      "153/153 [==============================] - 2s 14ms/step - loss: 0.0180 - accuracy: 0.9816 - val_loss: 0.0176 - val_accuracy: 0.9820\n",
      "Epoch 9/500\n",
      "153/153 [==============================] - 2s 14ms/step - loss: 0.0180 - accuracy: 0.9816 - val_loss: 0.0175 - val_accuracy: 0.9820\n",
      "Epoch 10/500\n",
      "153/153 [==============================] - 2s 14ms/step - loss: 0.0180 - accuracy: 0.9816 - val_loss: 0.0174 - val_accuracy: 0.9820\n",
      "Epoch 11/500\n",
      "153/153 [==============================] - 2s 14ms/step - loss: 0.0179 - accuracy: 0.9816 - val_loss: 0.0174 - val_accuracy: 0.9820\n",
      "Epoch 12/500\n",
      "153/153 [==============================] - 2s 14ms/step - loss: 0.0180 - accuracy: 0.9816 - val_loss: 0.0174 - val_accuracy: 0.9820\n",
      "Epoch 13/500\n",
      "153/153 [==============================] - 2s 13ms/step - loss: 0.0180 - accuracy: 0.9816 - val_loss: 0.0177 - val_accuracy: 0.9820\n",
      "Epoch 14/500\n",
      "153/153 [==============================] - 2s 14ms/step - loss: 0.0180 - accuracy: 0.9816 - val_loss: 0.0176 - val_accuracy: 0.9820\n",
      "Epoch 15/500\n",
      "153/153 [==============================] - 2s 14ms/step - loss: 0.0180 - accuracy: 0.9816 - val_loss: 0.0174 - val_accuracy: 0.9820\n",
      "Epoch 16/500\n",
      "153/153 [==============================] - 2s 14ms/step - loss: 0.0180 - accuracy: 0.9816 - val_loss: 0.0174 - val_accuracy: 0.9820\n",
      "Epoch 17/500\n",
      "153/153 [==============================] - 2s 13ms/step - loss: 0.0180 - accuracy: 0.9816 - val_loss: 0.0175 - val_accuracy: 0.9820\n",
      "Epoch 18/500\n",
      "153/153 [==============================] - 2s 13ms/step - loss: 0.0180 - accuracy: 0.9816 - val_loss: 0.0175 - val_accuracy: 0.9820\n",
      "Epoch 19/500\n",
      "153/153 [==============================] - 2s 14ms/step - loss: 0.0178 - accuracy: 0.9816 - val_loss: 0.0174 - val_accuracy: 0.9820\n",
      "Epoch 20/500\n",
      "153/153 [==============================] - 2s 14ms/step - loss: 0.0179 - accuracy: 0.9816 - val_loss: 0.0175 - val_accuracy: 0.9820\n",
      "Epoch 21/500\n",
      "153/153 [==============================] - 2s 13ms/step - loss: 0.0178 - accuracy: 0.9816 - val_loss: 0.0173 - val_accuracy: 0.9820\n",
      "Epoch 22/500\n",
      "153/153 [==============================] - 2s 14ms/step - loss: 0.0179 - accuracy: 0.9816 - val_loss: 0.0173 - val_accuracy: 0.9820\n",
      "Epoch 23/500\n",
      "153/153 [==============================] - 2s 14ms/step - loss: 0.0178 - accuracy: 0.9816 - val_loss: 0.0176 - val_accuracy: 0.9820\n",
      "Epoch 24/500\n",
      "153/153 [==============================] - 2s 14ms/step - loss: 0.0179 - accuracy: 0.9816 - val_loss: 0.0173 - val_accuracy: 0.9820\n",
      "Epoch 25/500\n",
      "153/153 [==============================] - 2s 14ms/step - loss: 0.0178 - accuracy: 0.9816 - val_loss: 0.0176 - val_accuracy: 0.9820\n",
      "Epoch 26/500\n",
      "153/153 [==============================] - 2s 13ms/step - loss: 0.0178 - accuracy: 0.9816 - val_loss: 0.0174 - val_accuracy: 0.9820\n",
      "Epoch 27/500\n",
      "153/153 [==============================] - 2s 13ms/step - loss: 0.0178 - accuracy: 0.9816 - val_loss: 0.0173 - val_accuracy: 0.9820\n",
      "Epoch 28/500\n",
      "153/153 [==============================] - 2s 14ms/step - loss: 0.0179 - accuracy: 0.9816 - val_loss: 0.0175 - val_accuracy: 0.9820\n",
      "Epoch 29/500\n",
      "153/153 [==============================] - 2s 13ms/step - loss: 0.0178 - accuracy: 0.9816 - val_loss: 0.0174 - val_accuracy: 0.9820\n",
      "Epoch 30/500\n",
      "153/153 [==============================] - 2s 13ms/step - loss: 0.0179 - accuracy: 0.9816 - val_loss: 0.0175 - val_accuracy: 0.9820\n",
      "Epoch 31/500\n",
      "153/153 [==============================] - 2s 13ms/step - loss: 0.0177 - accuracy: 0.9816 - val_loss: 0.0173 - val_accuracy: 0.9820\n",
      "Epoch 32/500\n",
      "153/153 [==============================] - 2s 13ms/step - loss: 0.0177 - accuracy: 0.9816 - val_loss: 0.0173 - val_accuracy: 0.9820\n",
      "Epoch 33/500\n",
      "153/153 [==============================] - 2s 14ms/step - loss: 0.0178 - accuracy: 0.9816 - val_loss: 0.0172 - val_accuracy: 0.9820\n",
      "Epoch 34/500\n",
      "153/153 [==============================] - 2s 13ms/step - loss: 0.0177 - accuracy: 0.9816 - val_loss: 0.0173 - val_accuracy: 0.9820\n",
      "Epoch 35/500\n",
      "153/153 [==============================] - 2s 14ms/step - loss: 0.0178 - accuracy: 0.9816 - val_loss: 0.0172 - val_accuracy: 0.9820\n",
      "Epoch 36/500\n",
      "153/153 [==============================] - 2s 13ms/step - loss: 0.0176 - accuracy: 0.9816 - val_loss: 0.0174 - val_accuracy: 0.9820\n",
      "Epoch 37/500\n",
      "153/153 [==============================] - 2s 13ms/step - loss: 0.0178 - accuracy: 0.9816 - val_loss: 0.0172 - val_accuracy: 0.9820\n",
      "Epoch 38/500\n",
      "153/153 [==============================] - 2s 14ms/step - loss: 0.0178 - accuracy: 0.9816 - val_loss: 0.0174 - val_accuracy: 0.9820\n",
      "Epoch 39/500\n",
      "153/153 [==============================] - 2s 13ms/step - loss: 0.0177 - accuracy: 0.9816 - val_loss: 0.0172 - val_accuracy: 0.9820\n",
      "Epoch 40/500\n",
      "153/153 [==============================] - 2s 13ms/step - loss: 0.0177 - accuracy: 0.9816 - val_loss: 0.0173 - val_accuracy: 0.9820\n",
      "Epoch 41/500\n",
      "153/153 [==============================] - 2s 13ms/step - loss: 0.0177 - accuracy: 0.9816 - val_loss: 0.0172 - val_accuracy: 0.9820\n",
      "Epoch 42/500\n",
      "153/153 [==============================] - 2s 12ms/step - loss: 0.0177 - accuracy: 0.9816 - val_loss: 0.0174 - val_accuracy: 0.9820\n",
      "Epoch 43/500\n",
      "153/153 [==============================] - 2s 13ms/step - loss: 0.0177 - accuracy: 0.9816 - val_loss: 0.0173 - val_accuracy: 0.9820\n",
      "Epoch 44/500\n",
      "153/153 [==============================] - 2s 14ms/step - loss: 0.0178 - accuracy: 0.9816 - val_loss: 0.0175 - val_accuracy: 0.9820\n",
      "Epoch 45/500\n",
      "153/153 [==============================] - 2s 14ms/step - loss: 0.0178 - accuracy: 0.9816 - val_loss: 0.0172 - val_accuracy: 0.9820\n",
      "Epoch 46/500\n",
      "153/153 [==============================] - 2s 14ms/step - loss: 0.0177 - accuracy: 0.9816 - val_loss: 0.0172 - val_accuracy: 0.9820\n",
      "Epoch 47/500\n",
      "153/153 [==============================] - 2s 14ms/step - loss: 0.0177 - accuracy: 0.9816 - val_loss: 0.0175 - val_accuracy: 0.9820\n",
      "Epoch 48/500\n",
      "153/153 [==============================] - 2s 14ms/step - loss: 0.0177 - accuracy: 0.9816 - val_loss: 0.0173 - val_accuracy: 0.9820\n",
      "Epoch 49/500\n",
      "153/153 [==============================] - 2s 14ms/step - loss: 0.0176 - accuracy: 0.9816 - val_loss: 0.0173 - val_accuracy: 0.9820\n",
      "Epoch 50/500\n",
      "153/153 [==============================] - 2s 14ms/step - loss: 0.0176 - accuracy: 0.9816 - val_loss: 0.0172 - val_accuracy: 0.9820\n",
      "Epoch 51/500\n",
      "153/153 [==============================] - 2s 14ms/step - loss: 0.0176 - accuracy: 0.9816 - val_loss: 0.0171 - val_accuracy: 0.9820\n",
      "Epoch 52/500\n",
      "153/153 [==============================] - 2s 14ms/step - loss: 0.0176 - accuracy: 0.9816 - val_loss: 0.0171 - val_accuracy: 0.9820\n",
      "Epoch 53/500\n",
      "153/153 [==============================] - 2s 14ms/step - loss: 0.0176 - accuracy: 0.9816 - val_loss: 0.0172 - val_accuracy: 0.9820\n",
      "Epoch 54/500\n",
      "153/153 [==============================] - 2s 14ms/step - loss: 0.0177 - accuracy: 0.9816 - val_loss: 0.0173 - val_accuracy: 0.9820\n",
      "Epoch 55/500\n",
      "153/153 [==============================] - 2s 14ms/step - loss: 0.0176 - accuracy: 0.9816 - val_loss: 0.0171 - val_accuracy: 0.9820\n",
      "Epoch 56/500\n",
      "153/153 [==============================] - 2s 14ms/step - loss: 0.0177 - accuracy: 0.9816 - val_loss: 0.0171 - val_accuracy: 0.9820\n",
      "Epoch 57/500\n"
     ]
    },
    {
     "name": "stdout",
     "output_type": "stream",
     "text": [
      "153/153 [==============================] - 2s 14ms/step - loss: 0.0177 - accuracy: 0.9816 - val_loss: 0.0171 - val_accuracy: 0.9820\n",
      "Epoch 58/500\n",
      "153/153 [==============================] - 2s 14ms/step - loss: 0.0178 - accuracy: 0.9816 - val_loss: 0.0171 - val_accuracy: 0.9820\n",
      "Epoch 59/500\n",
      "153/153 [==============================] - 2s 13ms/step - loss: 0.0177 - accuracy: 0.9816 - val_loss: 0.0173 - val_accuracy: 0.9820\n",
      "Epoch 60/500\n",
      "153/153 [==============================] - 2s 13ms/step - loss: 0.0176 - accuracy: 0.9816 - val_loss: 0.0171 - val_accuracy: 0.9820\n",
      "Epoch 61/500\n",
      "153/153 [==============================] - 2s 14ms/step - loss: 0.0177 - accuracy: 0.9816 - val_loss: 0.0172 - val_accuracy: 0.9820\n",
      "Epoch 62/500\n",
      "153/153 [==============================] - 2s 14ms/step - loss: 0.0176 - accuracy: 0.9816 - val_loss: 0.0171 - val_accuracy: 0.9820\n",
      "Epoch 63/500\n",
      "153/153 [==============================] - 2s 14ms/step - loss: 0.0176 - accuracy: 0.9816 - val_loss: 0.0171 - val_accuracy: 0.9820\n",
      "Epoch 64/500\n",
      "153/153 [==============================] - 2s 14ms/step - loss: 0.0176 - accuracy: 0.9816 - val_loss: 0.0170 - val_accuracy: 0.9820\n",
      "Epoch 65/500\n",
      "153/153 [==============================] - 2s 14ms/step - loss: 0.0176 - accuracy: 0.9816 - val_loss: 0.0171 - val_accuracy: 0.9820\n",
      "Epoch 66/500\n",
      "153/153 [==============================] - 2s 14ms/step - loss: 0.0177 - accuracy: 0.9816 - val_loss: 0.0171 - val_accuracy: 0.9820\n",
      "Epoch 67/500\n",
      "153/153 [==============================] - 2s 14ms/step - loss: 0.0175 - accuracy: 0.9816 - val_loss: 0.0171 - val_accuracy: 0.9820\n",
      "Epoch 68/500\n",
      "153/153 [==============================] - 2s 14ms/step - loss: 0.0177 - accuracy: 0.9816 - val_loss: 0.0172 - val_accuracy: 0.9820\n",
      "Epoch 69/500\n",
      "153/153 [==============================] - 2s 14ms/step - loss: 0.0176 - accuracy: 0.9816 - val_loss: 0.0170 - val_accuracy: 0.9820\n",
      "Epoch 70/500\n",
      "153/153 [==============================] - 2s 14ms/step - loss: 0.0176 - accuracy: 0.9816 - val_loss: 0.0170 - val_accuracy: 0.9820\n",
      "Epoch 71/500\n",
      "153/153 [==============================] - 2s 14ms/step - loss: 0.0175 - accuracy: 0.9816 - val_loss: 0.0170 - val_accuracy: 0.9820\n",
      "Epoch 72/500\n",
      "153/153 [==============================] - 2s 14ms/step - loss: 0.0175 - accuracy: 0.9816 - val_loss: 0.0171 - val_accuracy: 0.9820\n",
      "Epoch 73/500\n",
      "153/153 [==============================] - 2s 14ms/step - loss: 0.0178 - accuracy: 0.9816 - val_loss: 0.0172 - val_accuracy: 0.9820\n",
      "Epoch 74/500\n",
      "153/153 [==============================] - 2s 14ms/step - loss: 0.0174 - accuracy: 0.9816 - val_loss: 0.0171 - val_accuracy: 0.9820\n",
      "Epoch 75/500\n",
      "153/153 [==============================] - 2s 14ms/step - loss: 0.0175 - accuracy: 0.9816 - val_loss: 0.0169 - val_accuracy: 0.9820\n",
      "Epoch 76/500\n",
      "153/153 [==============================] - 2s 14ms/step - loss: 0.0175 - accuracy: 0.9816 - val_loss: 0.0171 - val_accuracy: 0.9820\n",
      "Epoch 77/500\n",
      "153/153 [==============================] - 2s 13ms/step - loss: 0.0174 - accuracy: 0.9816 - val_loss: 0.0170 - val_accuracy: 0.9820\n",
      "Epoch 78/500\n",
      "153/153 [==============================] - 2s 14ms/step - loss: 0.0173 - accuracy: 0.9816 - val_loss: 0.0176 - val_accuracy: 0.9820\n",
      "Epoch 79/500\n",
      "153/153 [==============================] - 2s 14ms/step - loss: 0.0174 - accuracy: 0.9816 - val_loss: 0.0168 - val_accuracy: 0.9820\n",
      "Epoch 80/500\n",
      "153/153 [==============================] - 2s 14ms/step - loss: 0.0172 - accuracy: 0.9816 - val_loss: 0.0168 - val_accuracy: 0.9820\n",
      "Epoch 81/500\n",
      "153/153 [==============================] - 2s 14ms/step - loss: 0.0175 - accuracy: 0.9816 - val_loss: 0.0169 - val_accuracy: 0.9820\n",
      "Epoch 82/500\n",
      "153/153 [==============================] - 2s 13ms/step - loss: 0.0171 - accuracy: 0.9816 - val_loss: 0.0172 - val_accuracy: 0.9820\n",
      "Epoch 83/500\n",
      "153/153 [==============================] - 2s 14ms/step - loss: 0.0171 - accuracy: 0.9816 - val_loss: 0.0170 - val_accuracy: 0.9820\n",
      "Epoch 84/500\n",
      "153/153 [==============================] - 2s 14ms/step - loss: 0.0170 - accuracy: 0.9816 - val_loss: 0.0168 - val_accuracy: 0.9820\n",
      "Epoch 85/500\n",
      "153/153 [==============================] - 2s 13ms/step - loss: 0.0173 - accuracy: 0.9816 - val_loss: 0.0167 - val_accuracy: 0.9820\n",
      "Epoch 86/500\n",
      "153/153 [==============================] - 2s 13ms/step - loss: 0.0170 - accuracy: 0.9816 - val_loss: 0.0173 - val_accuracy: 0.9820\n",
      "Epoch 87/500\n",
      "153/153 [==============================] - 2s 14ms/step - loss: 0.0169 - accuracy: 0.9816 - val_loss: 0.0167 - val_accuracy: 0.9820\n",
      "Epoch 88/500\n",
      "153/153 [==============================] - 2s 14ms/step - loss: 0.0168 - accuracy: 0.9816 - val_loss: 0.0171 - val_accuracy: 0.9820\n",
      "Epoch 89/500\n",
      "153/153 [==============================] - 2s 13ms/step - loss: 0.0168 - accuracy: 0.9816 - val_loss: 0.0165 - val_accuracy: 0.9820\n",
      "Epoch 90/500\n",
      "153/153 [==============================] - 2s 14ms/step - loss: 0.0169 - accuracy: 0.9816 - val_loss: 0.0167 - val_accuracy: 0.9820\n",
      "Epoch 91/500\n",
      "153/153 [==============================] - 2s 14ms/step - loss: 0.0170 - accuracy: 0.9816 - val_loss: 0.0169 - val_accuracy: 0.9820\n",
      "Epoch 92/500\n",
      "153/153 [==============================] - 2s 14ms/step - loss: 0.0169 - accuracy: 0.9816 - val_loss: 0.0167 - val_accuracy: 0.9820\n",
      "Epoch 93/500\n",
      "153/153 [==============================] - 2s 14ms/step - loss: 0.0168 - accuracy: 0.9816 - val_loss: 0.0168 - val_accuracy: 0.9820\n",
      "Epoch 94/500\n",
      "153/153 [==============================] - 2s 14ms/step - loss: 0.0164 - accuracy: 0.9816 - val_loss: 0.0169 - val_accuracy: 0.9820\n",
      "Epoch 95/500\n",
      "153/153 [==============================] - 2s 14ms/step - loss: 0.0165 - accuracy: 0.9816 - val_loss: 0.0165 - val_accuracy: 0.9820\n",
      "Epoch 96/500\n",
      "153/153 [==============================] - 2s 14ms/step - loss: 0.0162 - accuracy: 0.9816 - val_loss: 0.0171 - val_accuracy: 0.9820\n",
      "Epoch 97/500\n",
      "153/153 [==============================] - 2s 14ms/step - loss: 0.0164 - accuracy: 0.9816 - val_loss: 0.0172 - val_accuracy: 0.9820\n",
      "Epoch 98/500\n",
      "153/153 [==============================] - 2s 14ms/step - loss: 0.0162 - accuracy: 0.9816 - val_loss: 0.0165 - val_accuracy: 0.9820\n",
      "Epoch 99/500\n",
      "153/153 [==============================] - 2s 15ms/step - loss: 0.0161 - accuracy: 0.9814 - val_loss: 0.0161 - val_accuracy: 0.9820\n",
      "Epoch 100/500\n",
      "153/153 [==============================] - 2s 14ms/step - loss: 0.0162 - accuracy: 0.9816 - val_loss: 0.0169 - val_accuracy: 0.9820\n",
      "Epoch 101/500\n",
      "153/153 [==============================] - 2s 15ms/step - loss: 0.0157 - accuracy: 0.9820 - val_loss: 0.0170 - val_accuracy: 0.9820\n",
      "Epoch 102/500\n",
      "153/153 [==============================] - 2s 15ms/step - loss: 0.0162 - accuracy: 0.9816 - val_loss: 0.0162 - val_accuracy: 0.9820\n",
      "Epoch 103/500\n",
      "153/153 [==============================] - 2s 14ms/step - loss: 0.0157 - accuracy: 0.9818 - val_loss: 0.0169 - val_accuracy: 0.9820\n",
      "Epoch 104/500\n",
      "153/153 [==============================] - 2s 14ms/step - loss: 0.0158 - accuracy: 0.9816 - val_loss: 0.0161 - val_accuracy: 0.9820\n",
      "Epoch 105/500\n",
      "153/153 [==============================] - 2s 14ms/step - loss: 0.0153 - accuracy: 0.9818 - val_loss: 0.0170 - val_accuracy: 0.9787\n",
      "Epoch 106/500\n",
      "153/153 [==============================] - 2s 13ms/step - loss: 0.0172 - accuracy: 0.9810 - val_loss: 0.0172 - val_accuracy: 0.9812\n",
      "Epoch 107/500\n",
      "153/153 [==============================] - 2s 13ms/step - loss: 0.0151 - accuracy: 0.9826 - val_loss: 0.0164 - val_accuracy: 0.9820\n",
      "Epoch 108/500\n",
      "153/153 [==============================] - 2s 13ms/step - loss: 0.0156 - accuracy: 0.9820 - val_loss: 0.0180 - val_accuracy: 0.9820\n",
      "Epoch 109/500\n",
      "153/153 [==============================] - 2s 13ms/step - loss: 0.0167 - accuracy: 0.9824 - val_loss: 0.0158 - val_accuracy: 0.9820\n",
      "Epoch 110/500\n",
      "153/153 [==============================] - 2s 14ms/step - loss: 0.0149 - accuracy: 0.9820 - val_loss: 0.0164 - val_accuracy: 0.9812\n",
      "Epoch 111/500\n",
      "153/153 [==============================] - 2s 14ms/step - loss: 0.0149 - accuracy: 0.9824 - val_loss: 0.0172 - val_accuracy: 0.9812\n",
      "Epoch 112/500\n",
      "153/153 [==============================] - 2s 14ms/step - loss: 0.0151 - accuracy: 0.9832 - val_loss: 0.0166 - val_accuracy: 0.9820\n",
      "Epoch 113/500\n"
     ]
    },
    {
     "name": "stdout",
     "output_type": "stream",
     "text": [
      "153/153 [==============================] - 2s 14ms/step - loss: 0.0154 - accuracy: 0.9824 - val_loss: 0.0162 - val_accuracy: 0.9820\n",
      "Epoch 114/500\n",
      "153/153 [==============================] - 2s 14ms/step - loss: 0.0147 - accuracy: 0.9834 - val_loss: 0.0168 - val_accuracy: 0.9836\n",
      "Epoch 115/500\n",
      "153/153 [==============================] - 2s 14ms/step - loss: 0.0149 - accuracy: 0.9830 - val_loss: 0.0154 - val_accuracy: 0.9828\n",
      "Epoch 116/500\n",
      "153/153 [==============================] - 2s 14ms/step - loss: 0.0139 - accuracy: 0.9849 - val_loss: 0.0179 - val_accuracy: 0.9820\n",
      "Epoch 117/500\n",
      "153/153 [==============================] - 2s 14ms/step - loss: 0.0152 - accuracy: 0.9836 - val_loss: 0.0165 - val_accuracy: 0.9828\n",
      "Epoch 118/500\n",
      "153/153 [==============================] - 2s 15ms/step - loss: 0.0145 - accuracy: 0.9830 - val_loss: 0.0152 - val_accuracy: 0.9836\n",
      "Epoch 119/500\n",
      "153/153 [==============================] - 2s 15ms/step - loss: 0.0138 - accuracy: 0.9838 - val_loss: 0.0172 - val_accuracy: 0.9812\n",
      "Epoch 120/500\n",
      "153/153 [==============================] - 2s 14ms/step - loss: 0.0141 - accuracy: 0.9840 - val_loss: 0.0151 - val_accuracy: 0.9820\n",
      "Epoch 121/500\n",
      "153/153 [==============================] - 2s 13ms/step - loss: 0.0139 - accuracy: 0.9838 - val_loss: 0.0150 - val_accuracy: 0.9820\n",
      "Epoch 122/500\n",
      "153/153 [==============================] - 2s 14ms/step - loss: 0.0138 - accuracy: 0.9847 - val_loss: 0.0155 - val_accuracy: 0.9804\n",
      "Epoch 123/500\n",
      "153/153 [==============================] - 2s 14ms/step - loss: 0.0130 - accuracy: 0.9857 - val_loss: 0.0169 - val_accuracy: 0.9828\n",
      "Epoch 124/500\n",
      "153/153 [==============================] - 2s 13ms/step - loss: 0.0131 - accuracy: 0.9855 - val_loss: 0.0152 - val_accuracy: 0.9828\n",
      "Epoch 125/500\n",
      "153/153 [==============================] - 2s 14ms/step - loss: 0.0169 - accuracy: 0.9824 - val_loss: 0.0179 - val_accuracy: 0.9820\n",
      "Epoch 126/500\n",
      "153/153 [==============================] - 2s 14ms/step - loss: 0.0185 - accuracy: 0.9814 - val_loss: 0.0177 - val_accuracy: 0.9820\n",
      "Epoch 127/500\n",
      "153/153 [==============================] - 2s 14ms/step - loss: 0.0168 - accuracy: 0.9816 - val_loss: 0.0147 - val_accuracy: 0.9820\n",
      "Epoch 128/500\n",
      "153/153 [==============================] - 2s 14ms/step - loss: 0.0154 - accuracy: 0.9822 - val_loss: 0.0177 - val_accuracy: 0.9779\n",
      "Epoch 129/500\n",
      "153/153 [==============================] - 2s 14ms/step - loss: 0.0137 - accuracy: 0.9840 - val_loss: 0.0160 - val_accuracy: 0.9820\n",
      "Epoch 130/500\n",
      "153/153 [==============================] - 2s 13ms/step - loss: 0.0147 - accuracy: 0.9834 - val_loss: 0.0147 - val_accuracy: 0.9828\n",
      "Epoch 131/500\n",
      "153/153 [==============================] - 2s 14ms/step - loss: 0.0128 - accuracy: 0.9849 - val_loss: 0.0144 - val_accuracy: 0.9828\n",
      "Epoch 132/500\n",
      "153/153 [==============================] - 2s 15ms/step - loss: 0.0127 - accuracy: 0.9857 - val_loss: 0.0177 - val_accuracy: 0.9804\n",
      "Epoch 133/500\n",
      "153/153 [==============================] - 2s 14ms/step - loss: 0.0122 - accuracy: 0.9867 - val_loss: 0.0151 - val_accuracy: 0.9828\n",
      "Epoch 134/500\n",
      "153/153 [==============================] - 2s 14ms/step - loss: 0.0130 - accuracy: 0.9865 - val_loss: 0.0193 - val_accuracy: 0.9771\n",
      "Epoch 135/500\n",
      "153/153 [==============================] - 2s 13ms/step - loss: 0.0127 - accuracy: 0.9851 - val_loss: 0.0146 - val_accuracy: 0.9845\n",
      "Epoch 136/500\n",
      "153/153 [==============================] - 2s 13ms/step - loss: 0.0130 - accuracy: 0.9857 - val_loss: 0.0140 - val_accuracy: 0.9853\n",
      "Epoch 137/500\n",
      "153/153 [==============================] - 2s 14ms/step - loss: 0.0123 - accuracy: 0.9861 - val_loss: 0.0134 - val_accuracy: 0.9861\n",
      "Epoch 138/500\n",
      "153/153 [==============================] - 2s 15ms/step - loss: 0.0118 - accuracy: 0.9871 - val_loss: 0.0145 - val_accuracy: 0.9836\n",
      "Epoch 139/500\n",
      "153/153 [==============================] - 2s 15ms/step - loss: 0.0130 - accuracy: 0.9847 - val_loss: 0.0143 - val_accuracy: 0.9828\n",
      "Epoch 140/500\n",
      "153/153 [==============================] - 2s 14ms/step - loss: 0.0120 - accuracy: 0.9859 - val_loss: 0.0160 - val_accuracy: 0.9796\n",
      "Epoch 141/500\n",
      "153/153 [==============================] - 2s 13ms/step - loss: 0.0129 - accuracy: 0.9859 - val_loss: 0.0146 - val_accuracy: 0.9845\n",
      "Epoch 142/500\n",
      "153/153 [==============================] - 2s 14ms/step - loss: 0.0116 - accuracy: 0.9865 - val_loss: 0.0139 - val_accuracy: 0.9820\n",
      "Epoch 143/500\n",
      "153/153 [==============================] - 2s 14ms/step - loss: 0.0111 - accuracy: 0.9871 - val_loss: 0.0147 - val_accuracy: 0.9845\n",
      "Epoch 144/500\n",
      "153/153 [==============================] - 2s 14ms/step - loss: 0.0115 - accuracy: 0.9869 - val_loss: 0.0155 - val_accuracy: 0.9836\n",
      "Epoch 145/500\n",
      "153/153 [==============================] - 2s 14ms/step - loss: 0.0115 - accuracy: 0.9869 - val_loss: 0.0139 - val_accuracy: 0.9836\n",
      "Epoch 146/500\n",
      "153/153 [==============================] - 2s 14ms/step - loss: 0.0116 - accuracy: 0.9877 - val_loss: 0.0145 - val_accuracy: 0.9820\n",
      "Epoch 147/500\n",
      "153/153 [==============================] - 2s 14ms/step - loss: 0.0113 - accuracy: 0.9875 - val_loss: 0.0142 - val_accuracy: 0.9828\n",
      "Epoch 148/500\n",
      "153/153 [==============================] - 2s 14ms/step - loss: 0.0115 - accuracy: 0.9875 - val_loss: 0.0144 - val_accuracy: 0.9828\n",
      "Epoch 149/500\n",
      "153/153 [==============================] - 2s 14ms/step - loss: 0.0115 - accuracy: 0.9871 - val_loss: 0.0138 - val_accuracy: 0.9836\n",
      "Epoch 150/500\n",
      "153/153 [==============================] - 2s 14ms/step - loss: 0.0113 - accuracy: 0.9875 - val_loss: 0.0156 - val_accuracy: 0.9828\n",
      "Epoch 151/500\n",
      "153/153 [==============================] - 2s 14ms/step - loss: 0.0108 - accuracy: 0.9881 - val_loss: 0.0141 - val_accuracy: 0.9845\n",
      "Epoch 152/500\n",
      "153/153 [==============================] - 2s 14ms/step - loss: 0.0104 - accuracy: 0.9890 - val_loss: 0.0154 - val_accuracy: 0.9828\n",
      "Epoch 153/500\n",
      "153/153 [==============================] - 2s 14ms/step - loss: 0.0120 - accuracy: 0.9865 - val_loss: 0.0134 - val_accuracy: 0.9845\n",
      "Epoch 154/500\n",
      "153/153 [==============================] - 2s 14ms/step - loss: 0.0111 - accuracy: 0.9883 - val_loss: 0.0127 - val_accuracy: 0.9861\n",
      "Epoch 155/500\n",
      "153/153 [==============================] - 2s 14ms/step - loss: 0.0111 - accuracy: 0.9875 - val_loss: 0.0122 - val_accuracy: 0.9869\n",
      "Epoch 156/500\n",
      "153/153 [==============================] - 2s 14ms/step - loss: 0.0104 - accuracy: 0.9885 - val_loss: 0.0133 - val_accuracy: 0.9853\n",
      "Epoch 157/500\n",
      "153/153 [==============================] - 2s 14ms/step - loss: 0.0104 - accuracy: 0.9877 - val_loss: 0.0157 - val_accuracy: 0.9812\n",
      "Epoch 158/500\n",
      "153/153 [==============================] - 2s 14ms/step - loss: 0.0104 - accuracy: 0.9881 - val_loss: 0.0163 - val_accuracy: 0.9812\n",
      "Epoch 159/500\n",
      "153/153 [==============================] - 2s 14ms/step - loss: 0.0103 - accuracy: 0.9890 - val_loss: 0.0141 - val_accuracy: 0.9836\n",
      "Epoch 160/500\n",
      "153/153 [==============================] - 2s 14ms/step - loss: 0.0096 - accuracy: 0.9898 - val_loss: 0.0132 - val_accuracy: 0.9853\n",
      "Epoch 161/500\n",
      "153/153 [==============================] - 2s 14ms/step - loss: 0.0095 - accuracy: 0.9902 - val_loss: 0.0122 - val_accuracy: 0.9861\n",
      "Epoch 162/500\n",
      "153/153 [==============================] - 2s 14ms/step - loss: 0.0108 - accuracy: 0.9881 - val_loss: 0.0158 - val_accuracy: 0.9828\n",
      "Epoch 163/500\n",
      "153/153 [==============================] - 2s 14ms/step - loss: 0.0102 - accuracy: 0.9887 - val_loss: 0.0156 - val_accuracy: 0.9820\n",
      "Epoch 164/500\n",
      "153/153 [==============================] - 2s 14ms/step - loss: 0.0099 - accuracy: 0.9890 - val_loss: 0.0141 - val_accuracy: 0.9853\n",
      "Epoch 165/500\n",
      "153/153 [==============================] - 2s 14ms/step - loss: 0.0108 - accuracy: 0.9881 - val_loss: 0.0163 - val_accuracy: 0.9812\n",
      "Epoch 166/500\n",
      "153/153 [==============================] - 2s 14ms/step - loss: 0.0105 - accuracy: 0.9881 - val_loss: 0.0132 - val_accuracy: 0.9853\n",
      "Epoch 167/500\n",
      "153/153 [==============================] - 2s 14ms/step - loss: 0.0097 - accuracy: 0.9898 - val_loss: 0.0132 - val_accuracy: 0.9861\n",
      "Epoch 168/500\n",
      "153/153 [==============================] - 2s 14ms/step - loss: 0.0105 - accuracy: 0.9883 - val_loss: 0.0138 - val_accuracy: 0.9845\n",
      "Epoch 169/500\n"
     ]
    },
    {
     "name": "stdout",
     "output_type": "stream",
     "text": [
      "153/153 [==============================] - 2s 14ms/step - loss: 0.0108 - accuracy: 0.9879 - val_loss: 0.0128 - val_accuracy: 0.9853\n",
      "Epoch 170/500\n",
      "153/153 [==============================] - 2s 14ms/step - loss: 0.0103 - accuracy: 0.9879 - val_loss: 0.0146 - val_accuracy: 0.9828\n",
      "Epoch 171/500\n",
      "153/153 [==============================] - 2s 14ms/step - loss: 0.0098 - accuracy: 0.9896 - val_loss: 0.0131 - val_accuracy: 0.9861\n",
      "Epoch 172/500\n",
      "153/153 [==============================] - 2s 14ms/step - loss: 0.0092 - accuracy: 0.9902 - val_loss: 0.0134 - val_accuracy: 0.9845\n",
      "Epoch 173/500\n",
      "153/153 [==============================] - 2s 13ms/step - loss: 0.0087 - accuracy: 0.9910 - val_loss: 0.0123 - val_accuracy: 0.9869\n",
      "Epoch 174/500\n",
      "153/153 [==============================] - 2s 13ms/step - loss: 0.0103 - accuracy: 0.9885 - val_loss: 0.0144 - val_accuracy: 0.9845\n",
      "Epoch 175/500\n",
      "153/153 [==============================] - 2s 13ms/step - loss: 0.0097 - accuracy: 0.9900 - val_loss: 0.0138 - val_accuracy: 0.9845\n",
      "Epoch 176/500\n",
      "153/153 [==============================] - 2s 13ms/step - loss: 0.0091 - accuracy: 0.9902 - val_loss: 0.0109 - val_accuracy: 0.9886\n",
      "Epoch 177/500\n",
      "153/153 [==============================] - 2s 13ms/step - loss: 0.0088 - accuracy: 0.9908 - val_loss: 0.0111 - val_accuracy: 0.9877\n",
      "Epoch 178/500\n",
      "153/153 [==============================] - 2s 13ms/step - loss: 0.0085 - accuracy: 0.9912 - val_loss: 0.0123 - val_accuracy: 0.9861\n",
      "Epoch 179/500\n",
      "153/153 [==============================] - 2s 13ms/step - loss: 0.0099 - accuracy: 0.9892 - val_loss: 0.0132 - val_accuracy: 0.9853\n",
      "Epoch 180/500\n",
      "153/153 [==============================] - 2s 14ms/step - loss: 0.0089 - accuracy: 0.9906 - val_loss: 0.0123 - val_accuracy: 0.9869\n",
      "Epoch 181/500\n",
      "153/153 [==============================] - 2s 14ms/step - loss: 0.0088 - accuracy: 0.9908 - val_loss: 0.0123 - val_accuracy: 0.9861\n",
      "Epoch 182/500\n",
      "153/153 [==============================] - 2s 13ms/step - loss: 0.0094 - accuracy: 0.9904 - val_loss: 0.0145 - val_accuracy: 0.9836\n",
      "Epoch 183/500\n",
      "153/153 [==============================] - 2s 13ms/step - loss: 0.0100 - accuracy: 0.9892 - val_loss: 0.0125 - val_accuracy: 0.9861\n",
      "Epoch 184/500\n",
      "153/153 [==============================] - 2s 14ms/step - loss: 0.0103 - accuracy: 0.9887 - val_loss: 0.0117 - val_accuracy: 0.9877\n",
      "Epoch 185/500\n",
      "153/153 [==============================] - 2s 14ms/step - loss: 0.0088 - accuracy: 0.9900 - val_loss: 0.0130 - val_accuracy: 0.9845\n",
      "Epoch 186/500\n",
      "153/153 [==============================] - 2s 14ms/step - loss: 0.0087 - accuracy: 0.9910 - val_loss: 0.0124 - val_accuracy: 0.9877\n",
      "Epoch 187/500\n",
      "153/153 [==============================] - 2s 13ms/step - loss: 0.0084 - accuracy: 0.9908 - val_loss: 0.0115 - val_accuracy: 0.9869\n",
      "Epoch 188/500\n",
      "153/153 [==============================] - 2s 13ms/step - loss: 0.0086 - accuracy: 0.9902 - val_loss: 0.0113 - val_accuracy: 0.9877\n",
      "Epoch 189/500\n",
      "153/153 [==============================] - 2s 14ms/step - loss: 0.0082 - accuracy: 0.9914 - val_loss: 0.0143 - val_accuracy: 0.9812\n",
      "Epoch 190/500\n",
      "153/153 [==============================] - 2s 14ms/step - loss: 0.0091 - accuracy: 0.9902 - val_loss: 0.0109 - val_accuracy: 0.9886\n",
      "Epoch 191/500\n",
      "153/153 [==============================] - 2s 14ms/step - loss: 0.0082 - accuracy: 0.9918 - val_loss: 0.0118 - val_accuracy: 0.9869\n",
      "Epoch 192/500\n",
      "153/153 [==============================] - 2s 14ms/step - loss: 0.0081 - accuracy: 0.9918 - val_loss: 0.0153 - val_accuracy: 0.9836\n",
      "Epoch 193/500\n",
      "153/153 [==============================] - 2s 15ms/step - loss: 0.0107 - accuracy: 0.9883 - val_loss: 0.0155 - val_accuracy: 0.9828\n",
      "Epoch 194/500\n",
      "153/153 [==============================] - 2s 14ms/step - loss: 0.0088 - accuracy: 0.9910 - val_loss: 0.0123 - val_accuracy: 0.9869\n",
      "Epoch 195/500\n",
      "153/153 [==============================] - 2s 14ms/step - loss: 0.0093 - accuracy: 0.9900 - val_loss: 0.0111 - val_accuracy: 0.9886\n",
      "Epoch 196/500\n",
      "153/153 [==============================] - 2s 14ms/step - loss: 0.0084 - accuracy: 0.9914 - val_loss: 0.0116 - val_accuracy: 0.9869\n",
      "Epoch 197/500\n",
      "153/153 [==============================] - 2s 13ms/step - loss: 0.0080 - accuracy: 0.9912 - val_loss: 0.0116 - val_accuracy: 0.9877\n",
      "Epoch 198/500\n",
      "153/153 [==============================] - 2s 14ms/step - loss: 0.0112 - accuracy: 0.9865 - val_loss: 0.0159 - val_accuracy: 0.9820\n",
      "Epoch 199/500\n",
      "153/153 [==============================] - 2s 14ms/step - loss: 0.0104 - accuracy: 0.9890 - val_loss: 0.0133 - val_accuracy: 0.9853\n",
      "Epoch 200/500\n",
      "153/153 [==============================] - 2s 14ms/step - loss: 0.0094 - accuracy: 0.9900 - val_loss: 0.0133 - val_accuracy: 0.9853\n",
      "Epoch 201/500\n",
      "153/153 [==============================] - 2s 14ms/step - loss: 0.0081 - accuracy: 0.9914 - val_loss: 0.0139 - val_accuracy: 0.9853\n",
      "Epoch 202/500\n",
      "153/153 [==============================] - 2s 14ms/step - loss: 0.0078 - accuracy: 0.9918 - val_loss: 0.0125 - val_accuracy: 0.9861\n",
      "Epoch 203/500\n",
      "153/153 [==============================] - 2s 14ms/step - loss: 0.0080 - accuracy: 0.9912 - val_loss: 0.0127 - val_accuracy: 0.9861\n",
      "Epoch 204/500\n",
      "153/153 [==============================] - 2s 14ms/step - loss: 0.0079 - accuracy: 0.9912 - val_loss: 0.0108 - val_accuracy: 0.9886\n",
      "Epoch 205/500\n",
      "153/153 [==============================] - 2s 13ms/step - loss: 0.0094 - accuracy: 0.9894 - val_loss: 0.0126 - val_accuracy: 0.9845\n",
      "Epoch 206/500\n",
      "153/153 [==============================] - 2s 14ms/step - loss: 0.0084 - accuracy: 0.9912 - val_loss: 0.0121 - val_accuracy: 0.9869\n",
      "Epoch 207/500\n",
      "153/153 [==============================] - 2s 14ms/step - loss: 0.0083 - accuracy: 0.9910 - val_loss: 0.0102 - val_accuracy: 0.9894\n",
      "Epoch 208/500\n",
      "153/153 [==============================] - 2s 13ms/step - loss: 0.0074 - accuracy: 0.9918 - val_loss: 0.0115 - val_accuracy: 0.9869\n",
      "Epoch 209/500\n",
      "153/153 [==============================] - 2s 13ms/step - loss: 0.0068 - accuracy: 0.9932 - val_loss: 0.0117 - val_accuracy: 0.9869\n",
      "Epoch 210/500\n",
      "153/153 [==============================] - 2s 14ms/step - loss: 0.0078 - accuracy: 0.9922 - val_loss: 0.0129 - val_accuracy: 0.9853\n",
      "Epoch 211/500\n",
      "153/153 [==============================] - 2s 14ms/step - loss: 0.0084 - accuracy: 0.9908 - val_loss: 0.0109 - val_accuracy: 0.9886\n",
      "Epoch 212/500\n",
      "153/153 [==============================] - 2s 14ms/step - loss: 0.0076 - accuracy: 0.9920 - val_loss: 0.0140 - val_accuracy: 0.9845\n",
      "Epoch 213/500\n",
      "153/153 [==============================] - 2s 15ms/step - loss: 0.0120 - accuracy: 0.9859 - val_loss: 0.0180 - val_accuracy: 0.9820\n",
      "Epoch 214/500\n",
      "153/153 [==============================] - 2s 14ms/step - loss: 0.0174 - accuracy: 0.9820 - val_loss: 0.0148 - val_accuracy: 0.9836\n",
      "Epoch 215/500\n",
      "153/153 [==============================] - 2s 13ms/step - loss: 0.0098 - accuracy: 0.9890 - val_loss: 0.0119 - val_accuracy: 0.9861\n",
      "Epoch 216/500\n",
      "153/153 [==============================] - 2s 15ms/step - loss: 0.0073 - accuracy: 0.9926 - val_loss: 0.0119 - val_accuracy: 0.9877\n",
      "Epoch 217/500\n",
      "153/153 [==============================] - 2s 14ms/step - loss: 0.0071 - accuracy: 0.9920 - val_loss: 0.0114 - val_accuracy: 0.9886\n",
      "Epoch 218/500\n",
      "153/153 [==============================] - 2s 14ms/step - loss: 0.0070 - accuracy: 0.9926 - val_loss: 0.0115 - val_accuracy: 0.9877\n",
      "Epoch 219/500\n",
      "153/153 [==============================] - 2s 13ms/step - loss: 0.0068 - accuracy: 0.9930 - val_loss: 0.0100 - val_accuracy: 0.9886\n",
      "Epoch 220/500\n",
      "153/153 [==============================] - 2s 13ms/step - loss: 0.0069 - accuracy: 0.9920 - val_loss: 0.0131 - val_accuracy: 0.9861\n",
      "Epoch 221/500\n",
      "153/153 [==============================] - 2s 13ms/step - loss: 0.0065 - accuracy: 0.9930 - val_loss: 0.0119 - val_accuracy: 0.9869\n",
      "Epoch 222/500\n",
      "153/153 [==============================] - 2s 14ms/step - loss: 0.0065 - accuracy: 0.9932 - val_loss: 0.0118 - val_accuracy: 0.9877\n",
      "Epoch 223/500\n",
      "153/153 [==============================] - 2s 14ms/step - loss: 0.0064 - accuracy: 0.9935 - val_loss: 0.0110 - val_accuracy: 0.9886\n",
      "Epoch 224/500\n",
      "153/153 [==============================] - 2s 14ms/step - loss: 0.0064 - accuracy: 0.9932 - val_loss: 0.0131 - val_accuracy: 0.9861\n",
      "Epoch 225/500\n"
     ]
    },
    {
     "name": "stdout",
     "output_type": "stream",
     "text": [
      "153/153 [==============================] - 2s 14ms/step - loss: 0.0098 - accuracy: 0.9896 - val_loss: 0.0146 - val_accuracy: 0.9836\n",
      "Epoch 226/500\n",
      "153/153 [==============================] - 2s 14ms/step - loss: 0.0087 - accuracy: 0.9900 - val_loss: 0.0119 - val_accuracy: 0.9886\n",
      "Epoch 227/500\n",
      "153/153 [==============================] - 2s 14ms/step - loss: 0.0062 - accuracy: 0.9937 - val_loss: 0.0126 - val_accuracy: 0.9853\n",
      "Epoch 228/500\n",
      "153/153 [==============================] - 2s 14ms/step - loss: 0.0062 - accuracy: 0.9937 - val_loss: 0.0114 - val_accuracy: 0.9869\n",
      "Epoch 229/500\n",
      "153/153 [==============================] - 2s 14ms/step - loss: 0.0070 - accuracy: 0.9922 - val_loss: 0.0120 - val_accuracy: 0.9877\n",
      "Epoch 230/500\n",
      "153/153 [==============================] - 2s 13ms/step - loss: 0.0063 - accuracy: 0.9935 - val_loss: 0.0118 - val_accuracy: 0.9877\n",
      "Epoch 231/500\n",
      "153/153 [==============================] - 2s 13ms/step - loss: 0.0057 - accuracy: 0.9941 - val_loss: 0.0115 - val_accuracy: 0.9869\n",
      "Epoch 232/500\n",
      "153/153 [==============================] - 2s 13ms/step - loss: 0.0062 - accuracy: 0.9937 - val_loss: 0.0210 - val_accuracy: 0.9763\n",
      "Epoch 233/500\n",
      "153/153 [==============================] - 2s 14ms/step - loss: 0.0088 - accuracy: 0.9904 - val_loss: 0.0117 - val_accuracy: 0.9886\n",
      "Epoch 234/500\n",
      "153/153 [==============================] - 2s 14ms/step - loss: 0.0071 - accuracy: 0.9926 - val_loss: 0.0116 - val_accuracy: 0.9877\n",
      "Epoch 235/500\n",
      "153/153 [==============================] - 2s 14ms/step - loss: 0.0063 - accuracy: 0.9935 - val_loss: 0.0140 - val_accuracy: 0.9853\n",
      "Epoch 236/500\n",
      "153/153 [==============================] - 2s 14ms/step - loss: 0.0075 - accuracy: 0.9908 - val_loss: 0.0129 - val_accuracy: 0.9861\n",
      "Epoch 237/500\n",
      "153/153 [==============================] - 2s 14ms/step - loss: 0.0064 - accuracy: 0.9937 - val_loss: 0.0120 - val_accuracy: 0.9877\n",
      "Epoch 238/500\n",
      "153/153 [==============================] - 2s 14ms/step - loss: 0.0058 - accuracy: 0.9941 - val_loss: 0.0116 - val_accuracy: 0.9877\n",
      "Epoch 239/500\n",
      "153/153 [==============================] - 2s 14ms/step - loss: 0.0056 - accuracy: 0.9941 - val_loss: 0.0111 - val_accuracy: 0.9886\n",
      "Epoch 240/500\n",
      "153/153 [==============================] - 2s 14ms/step - loss: 0.0057 - accuracy: 0.9939 - val_loss: 0.0107 - val_accuracy: 0.9886\n",
      "Epoch 241/500\n",
      "153/153 [==============================] - 2s 14ms/step - loss: 0.0085 - accuracy: 0.9904 - val_loss: 0.0109 - val_accuracy: 0.9886\n",
      "Epoch 242/500\n",
      "153/153 [==============================] - 2s 14ms/step - loss: 0.0106 - accuracy: 0.9890 - val_loss: 0.0160 - val_accuracy: 0.9836\n",
      "Epoch 243/500\n",
      "153/153 [==============================] - 2s 14ms/step - loss: 0.0098 - accuracy: 0.9890 - val_loss: 0.0114 - val_accuracy: 0.9886\n",
      "Epoch 244/500\n",
      "153/153 [==============================] - 2s 14ms/step - loss: 0.0076 - accuracy: 0.9922 - val_loss: 0.0155 - val_accuracy: 0.9828\n",
      "Epoch 245/500\n",
      "153/153 [==============================] - 2s 14ms/step - loss: 0.0068 - accuracy: 0.9922 - val_loss: 0.0127 - val_accuracy: 0.9861\n",
      "Epoch 246/500\n",
      "153/153 [==============================] - 2s 14ms/step - loss: 0.0059 - accuracy: 0.9937 - val_loss: 0.0116 - val_accuracy: 0.9877\n",
      "Epoch 247/500\n",
      "153/153 [==============================] - 2s 14ms/step - loss: 0.0057 - accuracy: 0.9943 - val_loss: 0.0107 - val_accuracy: 0.9886\n",
      "Epoch 248/500\n",
      "153/153 [==============================] - 2s 14ms/step - loss: 0.0055 - accuracy: 0.9945 - val_loss: 0.0113 - val_accuracy: 0.9886\n",
      "Epoch 249/500\n",
      "153/153 [==============================] - 2s 15ms/step - loss: 0.0066 - accuracy: 0.9930 - val_loss: 0.0153 - val_accuracy: 0.9836\n",
      "Epoch 250/500\n",
      "153/153 [==============================] - 2s 14ms/step - loss: 0.0084 - accuracy: 0.9904 - val_loss: 0.0131 - val_accuracy: 0.9861\n",
      "Epoch 251/500\n",
      "153/153 [==============================] - 2s 14ms/step - loss: 0.0058 - accuracy: 0.9939 - val_loss: 0.0121 - val_accuracy: 0.9877\n",
      "Epoch 252/500\n",
      "153/153 [==============================] - 2s 14ms/step - loss: 0.0066 - accuracy: 0.9928 - val_loss: 0.0127 - val_accuracy: 0.9861\n",
      "Epoch 253/500\n",
      "153/153 [==============================] - 2s 14ms/step - loss: 0.0065 - accuracy: 0.9935 - val_loss: 0.0109 - val_accuracy: 0.9886\n",
      "Epoch 254/500\n",
      "153/153 [==============================] - 2s 14ms/step - loss: 0.0070 - accuracy: 0.9926 - val_loss: 0.0113 - val_accuracy: 0.9869\n",
      "Epoch 255/500\n",
      "153/153 [==============================] - 2s 14ms/step - loss: 0.0058 - accuracy: 0.9941 - val_loss: 0.0124 - val_accuracy: 0.9869\n",
      "Epoch 256/500\n",
      "153/153 [==============================] - 2s 14ms/step - loss: 0.0051 - accuracy: 0.9949 - val_loss: 0.0131 - val_accuracy: 0.9853\n",
      "Epoch 257/500\n",
      "153/153 [==============================] - 2s 14ms/step - loss: 0.0057 - accuracy: 0.9939 - val_loss: 0.0103 - val_accuracy: 0.9894\n",
      "Epoch 258/500\n",
      "153/153 [==============================] - 2s 14ms/step - loss: 0.0052 - accuracy: 0.9945 - val_loss: 0.0117 - val_accuracy: 0.9869\n",
      "Epoch 259/500\n",
      "153/153 [==============================] - 2s 14ms/step - loss: 0.0060 - accuracy: 0.9932 - val_loss: 0.0130 - val_accuracy: 0.9861\n",
      "Epoch 260/500\n",
      "153/153 [==============================] - 2s 15ms/step - loss: 0.0076 - accuracy: 0.9914 - val_loss: 0.0119 - val_accuracy: 0.9877\n",
      "Epoch 261/500\n",
      "153/153 [==============================] - 2s 16ms/step - loss: 0.0062 - accuracy: 0.9935 - val_loss: 0.0115 - val_accuracy: 0.9886\n",
      "Epoch 262/500\n",
      "153/153 [==============================] - 2s 14ms/step - loss: 0.0051 - accuracy: 0.9945 - val_loss: 0.0144 - val_accuracy: 0.9828\n",
      "Epoch 263/500\n",
      "153/153 [==============================] - 2s 13ms/step - loss: 0.0061 - accuracy: 0.9939 - val_loss: 0.0108 - val_accuracy: 0.9894\n",
      "Epoch 264/500\n",
      "153/153 [==============================] - 2s 14ms/step - loss: 0.0052 - accuracy: 0.9945 - val_loss: 0.0116 - val_accuracy: 0.9869\n",
      "Epoch 265/500\n",
      "153/153 [==============================] - 2s 14ms/step - loss: 0.0052 - accuracy: 0.9945 - val_loss: 0.0109 - val_accuracy: 0.9877\n",
      "Epoch 266/500\n",
      "153/153 [==============================] - 2s 13ms/step - loss: 0.0048 - accuracy: 0.9951 - val_loss: 0.0111 - val_accuracy: 0.9886\n",
      "Epoch 267/500\n",
      "153/153 [==============================] - 2s 14ms/step - loss: 0.0048 - accuracy: 0.9951 - val_loss: 0.0109 - val_accuracy: 0.9886\n",
      "Epoch 268/500\n",
      "153/153 [==============================] - 2s 14ms/step - loss: 0.0052 - accuracy: 0.9947 - val_loss: 0.0140 - val_accuracy: 0.9853\n",
      "Epoch 269/500\n",
      "153/153 [==============================] - 2s 14ms/step - loss: 0.0083 - accuracy: 0.9908 - val_loss: 0.0128 - val_accuracy: 0.9869\n",
      "Epoch 270/500\n",
      "153/153 [==============================] - 2s 13ms/step - loss: 0.0059 - accuracy: 0.9941 - val_loss: 0.0115 - val_accuracy: 0.9886\n",
      "Epoch 271/500\n",
      "153/153 [==============================] - 2s 14ms/step - loss: 0.0052 - accuracy: 0.9947 - val_loss: 0.0122 - val_accuracy: 0.9877\n",
      "Epoch 272/500\n",
      "153/153 [==============================] - 2s 14ms/step - loss: 0.0050 - accuracy: 0.9951 - val_loss: 0.0113 - val_accuracy: 0.9886\n",
      "Epoch 273/500\n",
      "153/153 [==============================] - 2s 15ms/step - loss: 0.0054 - accuracy: 0.9943 - val_loss: 0.0122 - val_accuracy: 0.9853\n",
      "Epoch 274/500\n",
      "153/153 [==============================] - 2s 14ms/step - loss: 0.0054 - accuracy: 0.9941 - val_loss: 0.0108 - val_accuracy: 0.9894\n",
      "Epoch 275/500\n",
      "153/153 [==============================] - 2s 13ms/step - loss: 0.0063 - accuracy: 0.9928 - val_loss: 0.0155 - val_accuracy: 0.9836\n",
      "Epoch 276/500\n",
      "153/153 [==============================] - 2s 14ms/step - loss: 0.0090 - accuracy: 0.9898 - val_loss: 0.0182 - val_accuracy: 0.9787\n",
      "Epoch 277/500\n",
      "153/153 [==============================] - 2s 15ms/step - loss: 0.0129 - accuracy: 0.9863 - val_loss: 0.0154 - val_accuracy: 0.9812\n",
      "Epoch 278/500\n",
      "153/153 [==============================] - 2s 14ms/step - loss: 0.0082 - accuracy: 0.9912 - val_loss: 0.0121 - val_accuracy: 0.9869\n",
      "Epoch 279/500\n",
      "153/153 [==============================] - 2s 14ms/step - loss: 0.0049 - accuracy: 0.9949 - val_loss: 0.0145 - val_accuracy: 0.9836\n",
      "Epoch 280/500\n",
      "153/153 [==============================] - 2s 14ms/step - loss: 0.0052 - accuracy: 0.9947 - val_loss: 0.0146 - val_accuracy: 0.9828\n",
      "Epoch 281/500\n"
     ]
    },
    {
     "name": "stdout",
     "output_type": "stream",
     "text": [
      "153/153 [==============================] - 2s 14ms/step - loss: 0.0065 - accuracy: 0.9930 - val_loss: 0.0140 - val_accuracy: 0.9853\n",
      "Epoch 282/500\n",
      "153/153 [==============================] - 2s 14ms/step - loss: 0.0055 - accuracy: 0.9943 - val_loss: 0.0125 - val_accuracy: 0.9853\n",
      "Epoch 283/500\n",
      "153/153 [==============================] - 2s 14ms/step - loss: 0.0049 - accuracy: 0.9953 - val_loss: 0.0121 - val_accuracy: 0.9877\n",
      "Epoch 284/500\n",
      "153/153 [==============================] - 2s 13ms/step - loss: 0.0050 - accuracy: 0.9947 - val_loss: 0.0127 - val_accuracy: 0.9869\n",
      "Epoch 285/500\n",
      "153/153 [==============================] - 2s 14ms/step - loss: 0.0045 - accuracy: 0.9955 - val_loss: 0.0134 - val_accuracy: 0.9836\n",
      "Epoch 286/500\n",
      "153/153 [==============================] - 2s 14ms/step - loss: 0.0045 - accuracy: 0.9955 - val_loss: 0.0119 - val_accuracy: 0.9877\n",
      "Epoch 287/500\n",
      "153/153 [==============================] - 2s 14ms/step - loss: 0.0046 - accuracy: 0.9953 - val_loss: 0.0146 - val_accuracy: 0.9836\n",
      "Epoch 288/500\n",
      "153/153 [==============================] - 2s 14ms/step - loss: 0.0051 - accuracy: 0.9951 - val_loss: 0.0115 - val_accuracy: 0.9877\n",
      "Epoch 289/500\n",
      "153/153 [==============================] - 2s 13ms/step - loss: 0.0064 - accuracy: 0.9930 - val_loss: 0.0108 - val_accuracy: 0.9886\n",
      "Epoch 290/500\n",
      "153/153 [==============================] - 2s 14ms/step - loss: 0.0050 - accuracy: 0.9949 - val_loss: 0.0114 - val_accuracy: 0.9894\n",
      "Epoch 291/500\n",
      "153/153 [==============================] - 2s 14ms/step - loss: 0.0049 - accuracy: 0.9953 - val_loss: 0.0108 - val_accuracy: 0.9877\n",
      "Epoch 292/500\n",
      "153/153 [==============================] - 2s 14ms/step - loss: 0.0058 - accuracy: 0.9939 - val_loss: 0.0113 - val_accuracy: 0.9886\n",
      "Epoch 293/500\n",
      "153/153 [==============================] - 2s 14ms/step - loss: 0.0065 - accuracy: 0.9932 - val_loss: 0.0127 - val_accuracy: 0.9869\n",
      "Epoch 294/500\n",
      "153/153 [==============================] - 2s 14ms/step - loss: 0.0089 - accuracy: 0.9908 - val_loss: 0.0111 - val_accuracy: 0.9877\n",
      "Epoch 295/500\n",
      "153/153 [==============================] - 2s 14ms/step - loss: 0.0065 - accuracy: 0.9928 - val_loss: 0.0139 - val_accuracy: 0.9836\n",
      "Epoch 296/500\n",
      "153/153 [==============================] - 2s 14ms/step - loss: 0.0057 - accuracy: 0.9945 - val_loss: 0.0132 - val_accuracy: 0.9853\n",
      "Epoch 297/500\n",
      "153/153 [==============================] - 2s 14ms/step - loss: 0.0053 - accuracy: 0.9947 - val_loss: 0.0114 - val_accuracy: 0.9877\n",
      "Epoch 298/500\n",
      "153/153 [==============================] - 2s 14ms/step - loss: 0.0050 - accuracy: 0.9949 - val_loss: 0.0138 - val_accuracy: 0.9853\n",
      "Epoch 299/500\n",
      "153/153 [==============================] - 2s 13ms/step - loss: 0.0061 - accuracy: 0.9937 - val_loss: 0.0136 - val_accuracy: 0.9861\n",
      "Epoch 300/500\n",
      "153/153 [==============================] - 2s 14ms/step - loss: 0.0075 - accuracy: 0.9922 - val_loss: 0.0124 - val_accuracy: 0.9877\n",
      "Epoch 301/500\n",
      "153/153 [==============================] - 2s 13ms/step - loss: 0.0091 - accuracy: 0.9896 - val_loss: 0.0155 - val_accuracy: 0.9820\n",
      "Epoch 302/500\n",
      "153/153 [==============================] - 2s 14ms/step - loss: 0.0054 - accuracy: 0.9947 - val_loss: 0.0128 - val_accuracy: 0.9861\n",
      "Epoch 303/500\n",
      "153/153 [==============================] - 2s 14ms/step - loss: 0.0046 - accuracy: 0.9955 - val_loss: 0.0127 - val_accuracy: 0.9861\n",
      "Epoch 304/500\n",
      "153/153 [==============================] - 2s 14ms/step - loss: 0.0045 - accuracy: 0.9955 - val_loss: 0.0129 - val_accuracy: 0.9861\n",
      "Epoch 305/500\n",
      "153/153 [==============================] - 2s 13ms/step - loss: 0.0047 - accuracy: 0.9953 - val_loss: 0.0117 - val_accuracy: 0.9869\n",
      "Epoch 306/500\n",
      "153/153 [==============================] - 2s 14ms/step - loss: 0.0045 - accuracy: 0.9955 - val_loss: 0.0120 - val_accuracy: 0.9877\n",
      "Epoch 307/500\n",
      "153/153 [==============================] - 2s 15ms/step - loss: 0.0045 - accuracy: 0.9955 - val_loss: 0.0120 - val_accuracy: 0.9869\n",
      "Epoch 308/500\n",
      "153/153 [==============================] - 2s 15ms/step - loss: 0.0046 - accuracy: 0.9953 - val_loss: 0.0117 - val_accuracy: 0.9877\n",
      "Epoch 309/500\n",
      "153/153 [==============================] - 2s 15ms/step - loss: 0.0045 - accuracy: 0.9955 - val_loss: 0.0125 - val_accuracy: 0.9861\n",
      "Epoch 310/500\n",
      "153/153 [==============================] - 2s 14ms/step - loss: 0.0044 - accuracy: 0.9953 - val_loss: 0.0126 - val_accuracy: 0.9877\n",
      "Epoch 311/500\n",
      "153/153 [==============================] - 2s 14ms/step - loss: 0.0046 - accuracy: 0.9955 - val_loss: 0.0131 - val_accuracy: 0.9861\n",
      "Epoch 312/500\n",
      "153/153 [==============================] - 2s 14ms/step - loss: 0.0098 - accuracy: 0.9890 - val_loss: 0.0116 - val_accuracy: 0.9869\n",
      "Epoch 313/500\n",
      "153/153 [==============================] - 2s 13ms/step - loss: 0.0067 - accuracy: 0.9924 - val_loss: 0.0106 - val_accuracy: 0.9877\n",
      "Epoch 314/500\n",
      "153/153 [==============================] - 2s 14ms/step - loss: 0.0051 - accuracy: 0.9947 - val_loss: 0.0117 - val_accuracy: 0.9877\n",
      "Epoch 315/500\n",
      "153/153 [==============================] - 2s 14ms/step - loss: 0.0050 - accuracy: 0.9949 - val_loss: 0.0111 - val_accuracy: 0.9877\n",
      "Epoch 316/500\n",
      "153/153 [==============================] - 2s 13ms/step - loss: 0.0050 - accuracy: 0.9949 - val_loss: 0.0116 - val_accuracy: 0.9861\n",
      "Epoch 317/500\n",
      "153/153 [==============================] - 2s 13ms/step - loss: 0.0063 - accuracy: 0.9930 - val_loss: 0.0151 - val_accuracy: 0.9836\n",
      "Epoch 318/500\n",
      "153/153 [==============================] - 2s 14ms/step - loss: 0.0084 - accuracy: 0.9908 - val_loss: 0.0124 - val_accuracy: 0.9853\n",
      "Epoch 319/500\n",
      "153/153 [==============================] - 2s 13ms/step - loss: 0.0058 - accuracy: 0.9939 - val_loss: 0.0117 - val_accuracy: 0.9877\n",
      "Epoch 320/500\n",
      "153/153 [==============================] - 2s 13ms/step - loss: 0.0049 - accuracy: 0.9951 - val_loss: 0.0112 - val_accuracy: 0.9869\n",
      "Epoch 321/500\n",
      "153/153 [==============================] - 2s 14ms/step - loss: 0.0048 - accuracy: 0.9945 - val_loss: 0.0127 - val_accuracy: 0.9853\n",
      "Epoch 322/500\n",
      "153/153 [==============================] - 2s 14ms/step - loss: 0.0053 - accuracy: 0.9945 - val_loss: 0.0114 - val_accuracy: 0.9877\n",
      "Epoch 323/500\n",
      "153/153 [==============================] - 2s 14ms/step - loss: 0.0042 - accuracy: 0.9957 - val_loss: 0.0117 - val_accuracy: 0.9877\n",
      "Epoch 324/500\n",
      "153/153 [==============================] - 2s 14ms/step - loss: 0.0044 - accuracy: 0.9957 - val_loss: 0.0114 - val_accuracy: 0.9869\n",
      "Epoch 325/500\n",
      "153/153 [==============================] - 2s 14ms/step - loss: 0.0042 - accuracy: 0.9957 - val_loss: 0.0123 - val_accuracy: 0.9853\n",
      "Epoch 326/500\n",
      "153/153 [==============================] - 2s 14ms/step - loss: 0.0043 - accuracy: 0.9953 - val_loss: 0.0127 - val_accuracy: 0.9853\n",
      "Epoch 327/500\n",
      "153/153 [==============================] - 2s 14ms/step - loss: 0.0050 - accuracy: 0.9945 - val_loss: 0.0154 - val_accuracy: 0.9820\n",
      "Epoch 328/500\n",
      "153/153 [==============================] - 2s 14ms/step - loss: 0.0063 - accuracy: 0.9932 - val_loss: 0.0127 - val_accuracy: 0.9861\n",
      "Epoch 329/500\n",
      "153/153 [==============================] - 2s 14ms/step - loss: 0.0070 - accuracy: 0.9922 - val_loss: 0.0107 - val_accuracy: 0.9886\n",
      "Epoch 330/500\n",
      "153/153 [==============================] - 2s 14ms/step - loss: 0.0047 - accuracy: 0.9953 - val_loss: 0.0130 - val_accuracy: 0.9853\n",
      "Epoch 331/500\n",
      "153/153 [==============================] - 2s 14ms/step - loss: 0.0045 - accuracy: 0.9955 - val_loss: 0.0123 - val_accuracy: 0.9861\n",
      "Epoch 332/500\n",
      "153/153 [==============================] - 2s 14ms/step - loss: 0.0043 - accuracy: 0.9955 - val_loss: 0.0123 - val_accuracy: 0.9869\n",
      "Epoch 333/500\n",
      "153/153 [==============================] - 2s 14ms/step - loss: 0.0043 - accuracy: 0.9955 - val_loss: 0.0116 - val_accuracy: 0.9877\n",
      "Epoch 334/500\n",
      "153/153 [==============================] - 2s 14ms/step - loss: 0.0042 - accuracy: 0.9957 - val_loss: 0.0125 - val_accuracy: 0.9853\n",
      "Epoch 335/500\n",
      "153/153 [==============================] - 2s 14ms/step - loss: 0.0046 - accuracy: 0.9949 - val_loss: 0.0114 - val_accuracy: 0.9861\n",
      "Epoch 336/500\n",
      "153/153 [==============================] - 2s 14ms/step - loss: 0.0045 - accuracy: 0.9955 - val_loss: 0.0117 - val_accuracy: 0.9861\n",
      "Epoch 337/500\n"
     ]
    },
    {
     "name": "stdout",
     "output_type": "stream",
     "text": [
      "153/153 [==============================] - 2s 14ms/step - loss: 0.0043 - accuracy: 0.9957 - val_loss: 0.0097 - val_accuracy: 0.9894\n",
      "Epoch 338/500\n",
      "153/153 [==============================] - 2s 14ms/step - loss: 0.0048 - accuracy: 0.9949 - val_loss: 0.0116 - val_accuracy: 0.9869\n",
      "Epoch 339/500\n",
      "153/153 [==============================] - 2s 14ms/step - loss: 0.0043 - accuracy: 0.9955 - val_loss: 0.0111 - val_accuracy: 0.9886\n",
      "Epoch 340/500\n",
      "153/153 [==============================] - 2s 14ms/step - loss: 0.0050 - accuracy: 0.9943 - val_loss: 0.0132 - val_accuracy: 0.9861\n",
      "Epoch 341/500\n",
      "153/153 [==============================] - 2s 14ms/step - loss: 0.0049 - accuracy: 0.9947 - val_loss: 0.0140 - val_accuracy: 0.9836\n",
      "Epoch 342/500\n",
      "153/153 [==============================] - 2s 14ms/step - loss: 0.0107 - accuracy: 0.9879 - val_loss: 0.0160 - val_accuracy: 0.9820\n",
      "Epoch 343/500\n",
      "153/153 [==============================] - 2s 14ms/step - loss: 0.0060 - accuracy: 0.9935 - val_loss: 0.0136 - val_accuracy: 0.9845\n",
      "Epoch 344/500\n",
      "153/153 [==============================] - 2s 14ms/step - loss: 0.0045 - accuracy: 0.9953 - val_loss: 0.0129 - val_accuracy: 0.9853\n",
      "Epoch 345/500\n",
      "153/153 [==============================] - 2s 14ms/step - loss: 0.0042 - accuracy: 0.9957 - val_loss: 0.0119 - val_accuracy: 0.9869\n",
      "Epoch 346/500\n",
      "153/153 [==============================] - 2s 14ms/step - loss: 0.0039 - accuracy: 0.9961 - val_loss: 0.0113 - val_accuracy: 0.9869\n",
      "Epoch 347/500\n",
      "153/153 [==============================] - 2s 14ms/step - loss: 0.0041 - accuracy: 0.9957 - val_loss: 0.0128 - val_accuracy: 0.9861\n",
      "Epoch 348/500\n",
      "153/153 [==============================] - 2s 14ms/step - loss: 0.0046 - accuracy: 0.9955 - val_loss: 0.0113 - val_accuracy: 0.9886\n",
      "Epoch 349/500\n",
      "153/153 [==============================] - 2s 14ms/step - loss: 0.0058 - accuracy: 0.9935 - val_loss: 0.0145 - val_accuracy: 0.9845\n",
      "Epoch 350/500\n",
      "153/153 [==============================] - 2s 14ms/step - loss: 0.0042 - accuracy: 0.9957 - val_loss: 0.0152 - val_accuracy: 0.9845\n",
      "Epoch 351/500\n",
      "153/153 [==============================] - 2s 14ms/step - loss: 0.0049 - accuracy: 0.9949 - val_loss: 0.0128 - val_accuracy: 0.9869\n",
      "Epoch 352/500\n",
      "153/153 [==============================] - 2s 14ms/step - loss: 0.0052 - accuracy: 0.9943 - val_loss: 0.0131 - val_accuracy: 0.9853\n",
      "Epoch 353/500\n",
      "153/153 [==============================] - 2s 13ms/step - loss: 0.0042 - accuracy: 0.9955 - val_loss: 0.0128 - val_accuracy: 0.9861\n",
      "Epoch 354/500\n",
      "153/153 [==============================] - 2s 14ms/step - loss: 0.0091 - accuracy: 0.9902 - val_loss: 0.0164 - val_accuracy: 0.9836\n",
      "Epoch 355/500\n",
      "153/153 [==============================] - 2s 13ms/step - loss: 0.0085 - accuracy: 0.9904 - val_loss: 0.0119 - val_accuracy: 0.9877\n",
      "Epoch 356/500\n",
      "153/153 [==============================] - 2s 13ms/step - loss: 0.0053 - accuracy: 0.9941 - val_loss: 0.0134 - val_accuracy: 0.9853\n",
      "Epoch 357/500\n",
      "153/153 [==============================] - 2s 14ms/step - loss: 0.0044 - accuracy: 0.9951 - val_loss: 0.0143 - val_accuracy: 0.9845\n",
      "Epoch 358/500\n",
      "153/153 [==============================] - 2s 14ms/step - loss: 0.0050 - accuracy: 0.9947 - val_loss: 0.0114 - val_accuracy: 0.9877\n",
      "Epoch 359/500\n",
      "153/153 [==============================] - 2s 14ms/step - loss: 0.0038 - accuracy: 0.9963 - val_loss: 0.0117 - val_accuracy: 0.9853\n",
      "Epoch 360/500\n",
      "153/153 [==============================] - 2s 14ms/step - loss: 0.0038 - accuracy: 0.9961 - val_loss: 0.0109 - val_accuracy: 0.9877\n",
      "Epoch 361/500\n",
      "153/153 [==============================] - 2s 13ms/step - loss: 0.0040 - accuracy: 0.9959 - val_loss: 0.0114 - val_accuracy: 0.9877\n",
      "Epoch 362/500\n",
      "153/153 [==============================] - 2s 14ms/step - loss: 0.0042 - accuracy: 0.9959 - val_loss: 0.0108 - val_accuracy: 0.9886\n",
      "Epoch 363/500\n",
      "153/153 [==============================] - 2s 14ms/step - loss: 0.0045 - accuracy: 0.9951 - val_loss: 0.0114 - val_accuracy: 0.9877\n",
      "Epoch 364/500\n",
      "153/153 [==============================] - 2s 14ms/step - loss: 0.0042 - accuracy: 0.9957 - val_loss: 0.0102 - val_accuracy: 0.9886\n",
      "Epoch 365/500\n",
      "153/153 [==============================] - 2s 14ms/step - loss: 0.0046 - accuracy: 0.9949 - val_loss: 0.0147 - val_accuracy: 0.9804\n",
      "Epoch 366/500\n",
      "153/153 [==============================] - 2s 14ms/step - loss: 0.0041 - accuracy: 0.9959 - val_loss: 0.0117 - val_accuracy: 0.9869\n",
      "Epoch 367/500\n",
      "153/153 [==============================] - 2s 14ms/step - loss: 0.0046 - accuracy: 0.9953 - val_loss: 0.0098 - val_accuracy: 0.9902\n",
      "Epoch 368/500\n",
      "153/153 [==============================] - 2s 13ms/step - loss: 0.0036 - accuracy: 0.9961 - val_loss: 0.0105 - val_accuracy: 0.9877\n",
      "Epoch 369/500\n",
      "153/153 [==============================] - 2s 14ms/step - loss: 0.0041 - accuracy: 0.9955 - val_loss: 0.0091 - val_accuracy: 0.9894\n",
      "Epoch 370/500\n",
      "153/153 [==============================] - 2s 14ms/step - loss: 0.0061 - accuracy: 0.9932 - val_loss: 0.0113 - val_accuracy: 0.9853\n",
      "Epoch 371/500\n",
      "153/153 [==============================] - 2s 14ms/step - loss: 0.0062 - accuracy: 0.9932 - val_loss: 0.0091 - val_accuracy: 0.9894\n",
      "Epoch 372/500\n",
      "153/153 [==============================] - 2s 14ms/step - loss: 0.0039 - accuracy: 0.9959 - val_loss: 0.0106 - val_accuracy: 0.9894\n",
      "Epoch 373/500\n",
      "153/153 [==============================] - 2s 14ms/step - loss: 0.0037 - accuracy: 0.9963 - val_loss: 0.0110 - val_accuracy: 0.9869\n",
      "Epoch 374/500\n",
      "153/153 [==============================] - 2s 15ms/step - loss: 0.0037 - accuracy: 0.9963 - val_loss: 0.0126 - val_accuracy: 0.9861\n",
      "Epoch 375/500\n",
      "153/153 [==============================] - 2s 13ms/step - loss: 0.0036 - accuracy: 0.9965 - val_loss: 0.0112 - val_accuracy: 0.9886\n",
      "Epoch 376/500\n",
      "153/153 [==============================] - 2s 14ms/step - loss: 0.0039 - accuracy: 0.9959 - val_loss: 0.0091 - val_accuracy: 0.9894\n",
      "Epoch 377/500\n",
      "153/153 [==============================] - 2s 13ms/step - loss: 0.0046 - accuracy: 0.9949 - val_loss: 0.0121 - val_accuracy: 0.9869\n",
      "Epoch 378/500\n",
      "153/153 [==============================] - 2s 14ms/step - loss: 0.0044 - accuracy: 0.9951 - val_loss: 0.0113 - val_accuracy: 0.9861\n",
      "Epoch 379/500\n",
      "153/153 [==============================] - 2s 13ms/step - loss: 0.0042 - accuracy: 0.9959 - val_loss: 0.0119 - val_accuracy: 0.9861\n",
      "Epoch 380/500\n",
      "153/153 [==============================] - 2s 14ms/step - loss: 0.0037 - accuracy: 0.9963 - val_loss: 0.0122 - val_accuracy: 0.9861\n",
      "Epoch 381/500\n",
      "153/153 [==============================] - 2s 13ms/step - loss: 0.0036 - accuracy: 0.9963 - val_loss: 0.0108 - val_accuracy: 0.9877\n",
      "Epoch 382/500\n",
      "153/153 [==============================] - 2s 14ms/step - loss: 0.0035 - accuracy: 0.9965 - val_loss: 0.0107 - val_accuracy: 0.9877\n",
      "Epoch 383/500\n",
      "153/153 [==============================] - 2s 13ms/step - loss: 0.0066 - accuracy: 0.9926 - val_loss: 0.0114 - val_accuracy: 0.9877\n",
      "Epoch 384/500\n",
      "153/153 [==============================] - 2s 14ms/step - loss: 0.0069 - accuracy: 0.9924 - val_loss: 0.0138 - val_accuracy: 0.9836\n",
      "Epoch 385/500\n",
      "153/153 [==============================] - 2s 14ms/step - loss: 0.0062 - accuracy: 0.9930 - val_loss: 0.0121 - val_accuracy: 0.9845\n",
      "Epoch 386/500\n",
      "153/153 [==============================] - 2s 14ms/step - loss: 0.0042 - accuracy: 0.9957 - val_loss: 0.0121 - val_accuracy: 0.9861\n",
      "Epoch 387/500\n",
      "153/153 [==============================] - 2s 14ms/step - loss: 0.0037 - accuracy: 0.9963 - val_loss: 0.0110 - val_accuracy: 0.9877\n",
      "Epoch 388/500\n",
      "153/153 [==============================] - 2s 14ms/step - loss: 0.0037 - accuracy: 0.9963 - val_loss: 0.0123 - val_accuracy: 0.9869\n",
      "Epoch 389/500\n",
      "153/153 [==============================] - 2s 15ms/step - loss: 0.0041 - accuracy: 0.9957 - val_loss: 0.0120 - val_accuracy: 0.9861\n",
      "Epoch 390/500\n",
      "153/153 [==============================] - 2s 14ms/step - loss: 0.0039 - accuracy: 0.9961 - val_loss: 0.0106 - val_accuracy: 0.9894\n",
      "Epoch 391/500\n",
      "153/153 [==============================] - 2s 14ms/step - loss: 0.0041 - accuracy: 0.9959 - val_loss: 0.0122 - val_accuracy: 0.9869\n",
      "Epoch 392/500\n",
      "153/153 [==============================] - 2s 14ms/step - loss: 0.0043 - accuracy: 0.9955 - val_loss: 0.0132 - val_accuracy: 0.9845\n",
      "Epoch 393/500\n"
     ]
    },
    {
     "name": "stdout",
     "output_type": "stream",
     "text": [
      "153/153 [==============================] - 2s 14ms/step - loss: 0.0035 - accuracy: 0.9965 - val_loss: 0.0129 - val_accuracy: 0.9845\n",
      "Epoch 394/500\n",
      "153/153 [==============================] - 2s 15ms/step - loss: 0.0041 - accuracy: 0.9957 - val_loss: 0.0109 - val_accuracy: 0.9877\n",
      "Epoch 395/500\n",
      "153/153 [==============================] - 2s 13ms/step - loss: 0.0036 - accuracy: 0.9963 - val_loss: 0.0112 - val_accuracy: 0.9886\n",
      "Epoch 396/500\n",
      "153/153 [==============================] - 2s 14ms/step - loss: 0.0032 - accuracy: 0.9965 - val_loss: 0.0138 - val_accuracy: 0.9845\n",
      "Epoch 397/500\n",
      "153/153 [==============================] - 2s 14ms/step - loss: 0.0040 - accuracy: 0.9961 - val_loss: 0.0143 - val_accuracy: 0.9836\n",
      "Epoch 398/500\n",
      "153/153 [==============================] - 2s 14ms/step - loss: 0.0070 - accuracy: 0.9924 - val_loss: 0.0106 - val_accuracy: 0.9877\n",
      "Epoch 399/500\n",
      "153/153 [==============================] - 2s 14ms/step - loss: 0.0087 - accuracy: 0.9902 - val_loss: 0.0102 - val_accuracy: 0.9894\n",
      "Epoch 400/500\n",
      "153/153 [==============================] - 2s 14ms/step - loss: 0.0042 - accuracy: 0.9955 - val_loss: 0.0096 - val_accuracy: 0.9894\n",
      "Epoch 401/500\n",
      "153/153 [==============================] - 2s 14ms/step - loss: 0.0036 - accuracy: 0.9965 - val_loss: 0.0098 - val_accuracy: 0.9894\n",
      "Epoch 402/500\n",
      "153/153 [==============================] - 2s 14ms/step - loss: 0.0033 - accuracy: 0.9967 - val_loss: 0.0095 - val_accuracy: 0.9894\n",
      "Epoch 403/500\n",
      "153/153 [==============================] - 2s 15ms/step - loss: 0.0033 - accuracy: 0.9967 - val_loss: 0.0090 - val_accuracy: 0.9894\n",
      "Epoch 404/500\n",
      "153/153 [==============================] - 2s 14ms/step - loss: 0.0033 - accuracy: 0.9967 - val_loss: 0.0090 - val_accuracy: 0.9910\n",
      "Epoch 405/500\n",
      "153/153 [==============================] - 2s 14ms/step - loss: 0.0034 - accuracy: 0.9965 - val_loss: 0.0108 - val_accuracy: 0.9886\n",
      "Epoch 406/500\n",
      "153/153 [==============================] - 2s 14ms/step - loss: 0.0043 - accuracy: 0.9953 - val_loss: 0.0101 - val_accuracy: 0.9902\n",
      "Epoch 407/500\n",
      "153/153 [==============================] - 2s 14ms/step - loss: 0.0035 - accuracy: 0.9963 - val_loss: 0.0111 - val_accuracy: 0.9877\n",
      "Epoch 408/500\n",
      "153/153 [==============================] - 2s 14ms/step - loss: 0.0032 - accuracy: 0.9969 - val_loss: 0.0108 - val_accuracy: 0.9877\n",
      "Epoch 409/500\n",
      "153/153 [==============================] - 2s 14ms/step - loss: 0.0031 - accuracy: 0.9969 - val_loss: 0.0103 - val_accuracy: 0.9877\n",
      "Epoch 410/500\n",
      "153/153 [==============================] - 2s 13ms/step - loss: 0.0037 - accuracy: 0.9961 - val_loss: 0.0093 - val_accuracy: 0.9886\n",
      "Epoch 411/500\n",
      "153/153 [==============================] - 2s 14ms/step - loss: 0.0034 - accuracy: 0.9965 - val_loss: 0.0088 - val_accuracy: 0.9910\n",
      "Epoch 412/500\n",
      "153/153 [==============================] - 2s 14ms/step - loss: 0.0032 - accuracy: 0.9967 - val_loss: 0.0110 - val_accuracy: 0.9861\n",
      "Epoch 413/500\n",
      "153/153 [==============================] - 2s 14ms/step - loss: 0.0041 - accuracy: 0.9957 - val_loss: 0.0102 - val_accuracy: 0.9894\n",
      "Epoch 414/500\n",
      "153/153 [==============================] - 2s 13ms/step - loss: 0.0054 - accuracy: 0.9943 - val_loss: 0.0116 - val_accuracy: 0.9869\n",
      "Epoch 415/500\n",
      "153/153 [==============================] - 2s 14ms/step - loss: 0.0048 - accuracy: 0.9941 - val_loss: 0.0146 - val_accuracy: 0.9845\n",
      "Epoch 416/500\n",
      "153/153 [==============================] - 2s 14ms/step - loss: 0.0044 - accuracy: 0.9951 - val_loss: 0.0095 - val_accuracy: 0.9902\n",
      "Epoch 417/500\n",
      "153/153 [==============================] - 2s 14ms/step - loss: 0.0064 - accuracy: 0.9928 - val_loss: 0.0169 - val_accuracy: 0.9812\n",
      "Epoch 418/500\n",
      "153/153 [==============================] - 2s 15ms/step - loss: 0.0072 - accuracy: 0.9924 - val_loss: 0.0127 - val_accuracy: 0.9869\n",
      "Epoch 419/500\n",
      "153/153 [==============================] - 2s 14ms/step - loss: 0.0033 - accuracy: 0.9967 - val_loss: 0.0104 - val_accuracy: 0.9877\n",
      "Epoch 420/500\n",
      "153/153 [==============================] - 2s 14ms/step - loss: 0.0053 - accuracy: 0.9941 - val_loss: 0.0136 - val_accuracy: 0.9845\n",
      "Epoch 421/500\n",
      "153/153 [==============================] - 2s 14ms/step - loss: 0.0040 - accuracy: 0.9953 - val_loss: 0.0126 - val_accuracy: 0.9853\n",
      "Epoch 422/500\n",
      "153/153 [==============================] - 2s 14ms/step - loss: 0.0034 - accuracy: 0.9963 - val_loss: 0.0091 - val_accuracy: 0.9902\n",
      "Epoch 423/500\n",
      "153/153 [==============================] - 2s 14ms/step - loss: 0.0033 - accuracy: 0.9967 - val_loss: 0.0095 - val_accuracy: 0.9894\n",
      "Epoch 424/500\n",
      "153/153 [==============================] - 2s 14ms/step - loss: 0.0029 - accuracy: 0.9971 - val_loss: 0.0103 - val_accuracy: 0.9877\n",
      "Epoch 425/500\n",
      "153/153 [==============================] - 2s 14ms/step - loss: 0.0029 - accuracy: 0.9969 - val_loss: 0.0098 - val_accuracy: 0.9886\n",
      "Epoch 426/500\n",
      "153/153 [==============================] - 2s 15ms/step - loss: 0.0030 - accuracy: 0.9967 - val_loss: 0.0108 - val_accuracy: 0.9861\n",
      "Epoch 427/500\n",
      "153/153 [==============================] - 2s 14ms/step - loss: 0.0030 - accuracy: 0.9971 - val_loss: 0.0117 - val_accuracy: 0.9869\n",
      "Epoch 428/500\n",
      "153/153 [==============================] - 2s 14ms/step - loss: 0.0034 - accuracy: 0.9965 - val_loss: 0.0107 - val_accuracy: 0.9886\n",
      "Epoch 429/500\n",
      "153/153 [==============================] - 2s 14ms/step - loss: 0.0029 - accuracy: 0.9971 - val_loss: 0.0104 - val_accuracy: 0.9869\n",
      "Epoch 430/500\n",
      "153/153 [==============================] - 2s 14ms/step - loss: 0.0027 - accuracy: 0.9973 - val_loss: 0.0096 - val_accuracy: 0.9894\n",
      "Epoch 431/500\n",
      "153/153 [==============================] - 2s 14ms/step - loss: 0.0026 - accuracy: 0.9973 - val_loss: 0.0098 - val_accuracy: 0.9886\n",
      "Epoch 432/500\n",
      "153/153 [==============================] - 2s 14ms/step - loss: 0.0026 - accuracy: 0.9973 - val_loss: 0.0097 - val_accuracy: 0.9894\n",
      "Epoch 433/500\n",
      "153/153 [==============================] - 2s 14ms/step - loss: 0.0026 - accuracy: 0.9973 - val_loss: 0.0103 - val_accuracy: 0.9894\n",
      "Epoch 434/500\n",
      "153/153 [==============================] - 2s 14ms/step - loss: 0.0025 - accuracy: 0.9975 - val_loss: 0.0105 - val_accuracy: 0.9886\n",
      "Epoch 435/500\n",
      "153/153 [==============================] - 2s 14ms/step - loss: 0.0025 - accuracy: 0.9975 - val_loss: 0.0100 - val_accuracy: 0.9894\n",
      "Epoch 436/500\n",
      "153/153 [==============================] - 2s 14ms/step - loss: 0.0028 - accuracy: 0.9971 - val_loss: 0.0109 - val_accuracy: 0.9869\n",
      "Epoch 437/500\n",
      "153/153 [==============================] - 2s 14ms/step - loss: 0.0056 - accuracy: 0.9932 - val_loss: 0.0104 - val_accuracy: 0.9886\n",
      "Epoch 438/500\n",
      "153/153 [==============================] - 2s 14ms/step - loss: 0.0046 - accuracy: 0.9945 - val_loss: 0.0109 - val_accuracy: 0.9877\n",
      "Epoch 439/500\n",
      "153/153 [==============================] - 2s 14ms/step - loss: 0.0039 - accuracy: 0.9957 - val_loss: 0.0086 - val_accuracy: 0.9910\n",
      "Epoch 440/500\n",
      "153/153 [==============================] - 2s 14ms/step - loss: 0.0030 - accuracy: 0.9969 - val_loss: 0.0081 - val_accuracy: 0.9910\n",
      "Epoch 441/500\n",
      "153/153 [==============================] - 2s 14ms/step - loss: 0.0026 - accuracy: 0.9975 - val_loss: 0.0092 - val_accuracy: 0.9894\n",
      "Epoch 442/500\n",
      "153/153 [==============================] - 2s 14ms/step - loss: 0.0023 - accuracy: 0.9977 - val_loss: 0.0088 - val_accuracy: 0.9902\n",
      "Epoch 443/500\n",
      "153/153 [==============================] - 2s 14ms/step - loss: 0.0030 - accuracy: 0.9969 - val_loss: 0.0090 - val_accuracy: 0.9894\n",
      "Epoch 444/500\n",
      "153/153 [==============================] - 2s 15ms/step - loss: 0.0024 - accuracy: 0.9975 - val_loss: 0.0085 - val_accuracy: 0.9910\n",
      "Epoch 445/500\n",
      "153/153 [==============================] - 2s 14ms/step - loss: 0.0034 - accuracy: 0.9965 - val_loss: 0.0138 - val_accuracy: 0.9853\n",
      "Epoch 446/500\n",
      "153/153 [==============================] - 2s 14ms/step - loss: 0.0050 - accuracy: 0.9943 - val_loss: 0.0142 - val_accuracy: 0.9836\n",
      "Epoch 447/500\n",
      "153/153 [==============================] - 2s 15ms/step - loss: 0.0035 - accuracy: 0.9967 - val_loss: 0.0120 - val_accuracy: 0.9869\n",
      "Epoch 448/500\n",
      "153/153 [==============================] - 2s 15ms/step - loss: 0.0030 - accuracy: 0.9967 - val_loss: 0.0122 - val_accuracy: 0.9869\n",
      "Epoch 449/500\n"
     ]
    },
    {
     "name": "stdout",
     "output_type": "stream",
     "text": [
      "153/153 [==============================] - 2s 14ms/step - loss: 0.0027 - accuracy: 0.9971 - val_loss: 0.0095 - val_accuracy: 0.9902\n",
      "Epoch 450/500\n",
      "153/153 [==============================] - 2s 14ms/step - loss: 0.0025 - accuracy: 0.9975 - val_loss: 0.0100 - val_accuracy: 0.9894\n",
      "Epoch 451/500\n",
      "153/153 [==============================] - 2s 14ms/step - loss: 0.0024 - accuracy: 0.9975 - val_loss: 0.0105 - val_accuracy: 0.9894\n",
      "Epoch 452/500\n",
      "153/153 [==============================] - 2s 14ms/step - loss: 0.0023 - accuracy: 0.9977 - val_loss: 0.0101 - val_accuracy: 0.9894\n",
      "Epoch 453/500\n",
      "153/153 [==============================] - 2s 14ms/step - loss: 0.0023 - accuracy: 0.9977 - val_loss: 0.0107 - val_accuracy: 0.9886\n",
      "Epoch 454/500\n",
      "153/153 [==============================] - 2s 14ms/step - loss: 0.0023 - accuracy: 0.9977 - val_loss: 0.0107 - val_accuracy: 0.9894\n",
      "Epoch 455/500\n",
      "153/153 [==============================] - 2s 14ms/step - loss: 0.0024 - accuracy: 0.9975 - val_loss: 0.0105 - val_accuracy: 0.9886\n",
      "Epoch 456/500\n",
      "153/153 [==============================] - 2s 14ms/step - loss: 0.0024 - accuracy: 0.9975 - val_loss: 0.0104 - val_accuracy: 0.9886\n",
      "Epoch 457/500\n",
      "153/153 [==============================] - 2s 14ms/step - loss: 0.0023 - accuracy: 0.9977 - val_loss: 0.0097 - val_accuracy: 0.9894\n",
      "Epoch 458/500\n",
      "153/153 [==============================] - 2s 14ms/step - loss: 0.0024 - accuracy: 0.9975 - val_loss: 0.0104 - val_accuracy: 0.9886\n",
      "Epoch 459/500\n",
      "153/153 [==============================] - 2s 13ms/step - loss: 0.0023 - accuracy: 0.9977 - val_loss: 0.0101 - val_accuracy: 0.9877\n",
      "Epoch 460/500\n",
      "153/153 [==============================] - 2s 13ms/step - loss: 0.0025 - accuracy: 0.9975 - val_loss: 0.0110 - val_accuracy: 0.9869\n",
      "Epoch 461/500\n",
      "153/153 [==============================] - 2s 14ms/step - loss: 0.0062 - accuracy: 0.9928 - val_loss: 0.0167 - val_accuracy: 0.9812\n",
      "Epoch 462/500\n",
      "153/153 [==============================] - 2s 14ms/step - loss: 0.0059 - accuracy: 0.9937 - val_loss: 0.0125 - val_accuracy: 0.9861\n",
      "Epoch 463/500\n",
      "153/153 [==============================] - 2s 14ms/step - loss: 0.0026 - accuracy: 0.9971 - val_loss: 0.0128 - val_accuracy: 0.9853\n",
      "Epoch 464/500\n",
      "153/153 [==============================] - 2s 14ms/step - loss: 0.0043 - accuracy: 0.9953 - val_loss: 0.0095 - val_accuracy: 0.9894\n",
      "Epoch 465/500\n",
      "153/153 [==============================] - 2s 14ms/step - loss: 0.0035 - accuracy: 0.9961 - val_loss: 0.0107 - val_accuracy: 0.9886\n",
      "Epoch 466/500\n",
      "153/153 [==============================] - 2s 14ms/step - loss: 0.0043 - accuracy: 0.9953 - val_loss: 0.0097 - val_accuracy: 0.9894\n",
      "Epoch 467/500\n",
      "153/153 [==============================] - 2s 13ms/step - loss: 0.0025 - accuracy: 0.9975 - val_loss: 0.0108 - val_accuracy: 0.9869\n",
      "Epoch 468/500\n",
      "153/153 [==============================] - 2s 14ms/step - loss: 0.0029 - accuracy: 0.9971 - val_loss: 0.0094 - val_accuracy: 0.9886\n",
      "Epoch 469/500\n",
      "153/153 [==============================] - 2s 14ms/step - loss: 0.0025 - accuracy: 0.9975 - val_loss: 0.0115 - val_accuracy: 0.9861\n",
      "Epoch 470/500\n",
      "153/153 [==============================] - 2s 14ms/step - loss: 0.0029 - accuracy: 0.9969 - val_loss: 0.0118 - val_accuracy: 0.9853\n",
      "Epoch 471/500\n",
      "153/153 [==============================] - 2s 14ms/step - loss: 0.0022 - accuracy: 0.9980 - val_loss: 0.0121 - val_accuracy: 0.9853\n",
      "Epoch 472/500\n",
      "153/153 [==============================] - 2s 14ms/step - loss: 0.0032 - accuracy: 0.9965 - val_loss: 0.0122 - val_accuracy: 0.9853\n",
      "Epoch 473/500\n",
      "153/153 [==============================] - 2s 14ms/step - loss: 0.0030 - accuracy: 0.9969 - val_loss: 0.0133 - val_accuracy: 0.9853\n",
      "Epoch 474/500\n",
      "153/153 [==============================] - 2s 14ms/step - loss: 0.0028 - accuracy: 0.9971 - val_loss: 0.0117 - val_accuracy: 0.9869\n",
      "Epoch 475/500\n",
      "153/153 [==============================] - 2s 13ms/step - loss: 0.0019 - accuracy: 0.9982 - val_loss: 0.0120 - val_accuracy: 0.9869\n",
      "Epoch 476/500\n",
      "153/153 [==============================] - 2s 14ms/step - loss: 0.0027 - accuracy: 0.9969 - val_loss: 0.0106 - val_accuracy: 0.9869\n",
      "Epoch 477/500\n",
      "153/153 [==============================] - 2s 14ms/step - loss: 0.0036 - accuracy: 0.9959 - val_loss: 0.0140 - val_accuracy: 0.9845\n",
      "Epoch 478/500\n",
      "153/153 [==============================] - 2s 14ms/step - loss: 0.0034 - accuracy: 0.9965 - val_loss: 0.0135 - val_accuracy: 0.9845\n",
      "Epoch 479/500\n",
      "153/153 [==============================] - 2s 14ms/step - loss: 0.0024 - accuracy: 0.9973 - val_loss: 0.0134 - val_accuracy: 0.9861\n",
      "Epoch 480/500\n",
      "153/153 [==============================] - 2s 14ms/step - loss: 0.0020 - accuracy: 0.9980 - val_loss: 0.0133 - val_accuracy: 0.9836\n",
      "Epoch 481/500\n",
      "153/153 [==============================] - 2s 14ms/step - loss: 0.0019 - accuracy: 0.9982 - val_loss: 0.0127 - val_accuracy: 0.9853\n",
      "Epoch 482/500\n",
      "153/153 [==============================] - 2s 15ms/step - loss: 0.0019 - accuracy: 0.9982 - val_loss: 0.0121 - val_accuracy: 0.9853\n",
      "Epoch 483/500\n",
      "153/153 [==============================] - 2s 14ms/step - loss: 0.0020 - accuracy: 0.9982 - val_loss: 0.0131 - val_accuracy: 0.9845\n",
      "Epoch 484/500\n",
      "153/153 [==============================] - 2s 14ms/step - loss: 0.0022 - accuracy: 0.9977 - val_loss: 0.0117 - val_accuracy: 0.9861\n",
      "Epoch 485/500\n",
      "153/153 [==============================] - 2s 14ms/step - loss: 0.0024 - accuracy: 0.9977 - val_loss: 0.0120 - val_accuracy: 0.9877\n",
      "Epoch 486/500\n",
      "153/153 [==============================] - 2s 14ms/step - loss: 0.0032 - accuracy: 0.9967 - val_loss: 0.0101 - val_accuracy: 0.9886\n",
      "Epoch 487/500\n",
      "153/153 [==============================] - 2s 15ms/step - loss: 0.0021 - accuracy: 0.9977 - val_loss: 0.0116 - val_accuracy: 0.9869\n",
      "Epoch 488/500\n",
      "153/153 [==============================] - 2s 15ms/step - loss: 0.0019 - accuracy: 0.9982 - val_loss: 0.0106 - val_accuracy: 0.9886\n",
      "Epoch 489/500\n",
      "153/153 [==============================] - 2s 15ms/step - loss: 0.0019 - accuracy: 0.9982 - val_loss: 0.0124 - val_accuracy: 0.9853\n",
      "Epoch 490/500\n",
      "153/153 [==============================] - 2s 14ms/step - loss: 0.0023 - accuracy: 0.9975 - val_loss: 0.0102 - val_accuracy: 0.9886\n",
      "Epoch 491/500\n",
      "153/153 [==============================] - 2s 14ms/step - loss: 0.0032 - accuracy: 0.9965 - val_loss: 0.0126 - val_accuracy: 0.9869\n",
      "Epoch 492/500\n",
      "153/153 [==============================] - 2s 14ms/step - loss: 0.0078 - accuracy: 0.9912 - val_loss: 0.0157 - val_accuracy: 0.9828\n",
      "Epoch 493/500\n",
      "153/153 [==============================] - 2s 14ms/step - loss: 0.0094 - accuracy: 0.9902 - val_loss: 0.0121 - val_accuracy: 0.9861\n",
      "Epoch 494/500\n",
      "153/153 [==============================] - 2s 14ms/step - loss: 0.0049 - accuracy: 0.9945 - val_loss: 0.0122 - val_accuracy: 0.9861\n",
      "Epoch 495/500\n",
      "153/153 [==============================] - 2s 14ms/step - loss: 0.0026 - accuracy: 0.9971 - val_loss: 0.0117 - val_accuracy: 0.9845\n",
      "Epoch 496/500\n",
      "153/153 [==============================] - 2s 15ms/step - loss: 0.0023 - accuracy: 0.9977 - val_loss: 0.0110 - val_accuracy: 0.9877\n",
      "Epoch 497/500\n",
      "153/153 [==============================] - 2s 14ms/step - loss: 0.0021 - accuracy: 0.9980 - val_loss: 0.0118 - val_accuracy: 0.9869\n",
      "Epoch 498/500\n",
      "153/153 [==============================] - 2s 15ms/step - loss: 0.0019 - accuracy: 0.9982 - val_loss: 0.0120 - val_accuracy: 0.9853\n",
      "Epoch 499/500\n",
      "153/153 [==============================] - 2s 15ms/step - loss: 0.0019 - accuracy: 0.9982 - val_loss: 0.0115 - val_accuracy: 0.9869\n",
      "Epoch 500/500\n",
      "153/153 [==============================] - 2s 14ms/step - loss: 0.0018 - accuracy: 0.9982 - val_loss: 0.0115 - val_accuracy: 0.9861\n"
     ]
    }
   ],
   "source": [
    "epochs = 500\n",
    "batch_size = 32\n",
    "\n",
    "callbacks = [\n",
    "    keras.callbacks.ModelCheckpoint(\n",
    "        \"best_model_500_epoches_feature_selection.h5\", save_best_only=True, monitor=\"val_loss\"\n",
    "    ),\n",
    "    keras.callbacks.ReduceLROnPlateau(\n",
    "        monitor=\"val_loss\", factor=0.5, patience=20, min_lr=0.0001\n",
    "    ),\n",
    "    keras.callbacks.EarlyStopping(monitor=\"val_loss\", patience=50, verbose=1),\n",
    "]\n",
    "model.compile(\n",
    "    optimizer=\"adam\",\n",
    "    loss = 'mean_squared_error', \n",
    "    metrics = [\"accuracy\"],\n",
    ")\n",
    "history1 = model.fit(\n",
    "    X_train,\n",
    "    y_train,\n",
    "    batch_size=batch_size,\n",
    "    epochs=epochs,\n",
    "#     callbacks=callbacks,\n",
    "    validation_split=0.2,\n",
    "    verbose=1,\n",
    ")"
   ]
  },
  {
   "cell_type": "code",
   "execution_count": 50,
   "id": "fb9a38a5",
   "metadata": {},
   "outputs": [],
   "source": [
    "def plot_train_validation_graph(history, file_name):\n",
    "    loss = history.history['loss']\n",
    "    val_loss = history.history['val_loss']\n",
    "    \n",
    "    acc = history.history['accuracy']\n",
    "    val_acc = history.history['val_accuracy']\n",
    "\n",
    "    epochs_range = range(len(loss))  \n",
    "    \n",
    "\n",
    "    plt.figure(figsize=(8, 6), dpi=100)\n",
    "    \n",
    "    plt.subplot(2, 1, 1)\n",
    "\n",
    "    plt.plot(epochs_range, acc, label='Training Accuracy')\n",
    "    plt.plot(epochs_range, val_acc, label='Validation Accuracy')\n",
    "    plt.xlabel('Epoch')\n",
    "    plt.ylabel('Accuracy')\n",
    "    plt.legend(loc='lower right')\n",
    "    plt.grid(True)\n",
    "   \n",
    "    plt.title('Training Vs Validation Accuracy')\n",
    "    \n",
    "    plt.subplot(2, 1, 2)      \n",
    "    plt.plot(epochs_range, loss, label='Training Loss')\n",
    "    plt.plot(epochs_range, val_loss, label='Validation Loss')\n",
    "    plt.legend(loc='upper right')\n",
    "    plt.xlabel('Epoch')\n",
    "    plt.ylabel('MSE')\n",
    "    plt.title('Training Vs Validation Loss')   \n",
    "    plt.tight_layout(pad=1.0)\n",
    "    plt.grid(True)\n",
    "    plt.legend()\n",
    "    \n",
    "    plt.savefig(file_name + \".png\")\n",
    "    plt.show()"
   ]
  },
  {
   "cell_type": "code",
   "execution_count": 51,
   "id": "546e0563",
   "metadata": {},
   "outputs": [
    {
     "data": {
      "image/png": "[encoded data removed]",
      "text/plain": [
       "<Figure size 800x600 with 2 Axes>"
      ]
     },
     "metadata": {},
     "output_type": "display_data"
    }
   ],
   "source": [
    "plot_train_validation_graph(history1, \"Training_Vs_Validation_graph_lstm_feature_selection_500_epochs\")"
   ]
  },
  {
   "cell_type": "code",
   "execution_count": 52,
   "id": "8ab227e0",
   "metadata": {},
   "outputs": [
    {
     "name": "stdout",
     "output_type": "stream",
     "text": [
      "34/34 [==============================] - 0s 7ms/step - loss: 0.0121 - accuracy: 0.9870\n",
      "Test accuracy: 0.9870\n"
     ]
    }
   ],
   "source": [
    "# Evaluate the model\n",
    "loss, accuracy = model.evaluate(X_test, y_test)\n",
    "print(f'Test accuracy: {accuracy:.4f}')"
   ]
  },
  {
   "cell_type": "code",
   "execution_count": 53,
   "id": "00f97424",
   "metadata": {},
   "outputs": [
    {
     "name": "stdout",
     "output_type": "stream",
     "text": [
      "34/34 [==============================] - 0s 6ms/step\n"
     ]
    }
   ],
   "source": [
    "y_prediction = model.predict(X_test)"
   ]
  },
  {
   "cell_type": "code",
   "execution_count": 54,
   "id": "a6f2e6e4",
   "metadata": {},
   "outputs": [
    {
     "data": {
      "text/plain": [
       "(1079, 10, 10)"
      ]
     },
     "execution_count": 54,
     "metadata": {},
     "output_type": "execute_result"
    }
   ],
   "source": [
    "X_test.shape"
   ]
  },
  {
   "cell_type": "code",
   "execution_count": 55,
   "id": "b1eec9ec",
   "metadata": {},
   "outputs": [
    {
     "data": {
      "text/plain": [
       "((1079, 1), (1079,))"
      ]
     },
     "execution_count": 55,
     "metadata": {},
     "output_type": "execute_result"
    }
   ],
   "source": [
    "y_prediction.shape, y_test.shape"
   ]
  },
  {
   "cell_type": "code",
   "execution_count": 56,
   "id": "8efce12b",
   "metadata": {},
   "outputs": [
    {
     "data": {
      "text/plain": [
       "(1079,)"
      ]
     },
     "execution_count": 56,
     "metadata": {},
     "output_type": "execute_result"
    }
   ],
   "source": [
    "y_predict = y_prediction.flatten()\n",
    "y_predict.shape"
   ]
  },
  {
   "cell_type": "code",
   "execution_count": 57,
   "id": "06a83ac1",
   "metadata": {},
   "outputs": [],
   "source": [
    "y_predict = list(np.where(np.array(y_predict) > 0.5, 1, 0 ))\n",
    "y_predict = np.array(y_predict)"
   ]
  },
  {
   "cell_type": "code",
   "execution_count": 58,
   "id": "0ae9a525",
   "metadata": {},
   "outputs": [
    {
     "data": {
      "text/plain": [
       "((1079,), (1079,))"
      ]
     },
     "execution_count": 58,
     "metadata": {},
     "output_type": "execute_result"
    }
   ],
   "source": [
    "y_predict.shape, y_test.shape"
   ]
  },
  {
   "cell_type": "code",
   "execution_count": null,
   "id": "cd790287",
   "metadata": {},
   "outputs": [],
   "source": []
  },
  {
   "cell_type": "code",
   "execution_count": 59,
   "id": "644e88f3",
   "metadata": {},
   "outputs": [],
   "source": [
    "dataframe = pd.DataFrame({\n",
    "    \"Actual_Load\":y_test,\n",
    "    \"Predicted_Load\":y_predict\n",
    "})"
   ]
  },
  {
   "cell_type": "code",
   "execution_count": 60,
   "id": "230ddbff",
   "metadata": {},
   "outputs": [
    {
     "data": {
      "text/html": [
       "<div>\n",
       "<style scoped>\n",
       "    .dataframe tbody tr th:only-of-type {\n",
       "        vertical-align: middle;\n",
       "    }\n",
       "\n",
       "    .dataframe tbody tr th {\n",
       "        vertical-align: top;\n",
       "    }\n",
       "\n",
       "    .dataframe thead th {\n",
       "        text-align: right;\n",
       "    }\n",
       "</style>\n",
       "<table border=\"1\" class=\"dataframe\">\n",
       "  <thead>\n",
       "    <tr style=\"text-align: right;\">\n",
       "      <th></th>\n",
       "      <th>Actual_Load</th>\n",
       "      <th>Predicted_Load</th>\n",
       "    </tr>\n",
       "  </thead>\n",
       "  <tbody>\n",
       "    <tr>\n",
       "      <th>0</th>\n",
       "      <td>1</td>\n",
       "      <td>1</td>\n",
       "    </tr>\n",
       "    <tr>\n",
       "      <th>1</th>\n",
       "      <td>0</td>\n",
       "      <td>0</td>\n",
       "    </tr>\n",
       "    <tr>\n",
       "      <th>2</th>\n",
       "      <td>0</td>\n",
       "      <td>0</td>\n",
       "    </tr>\n",
       "    <tr>\n",
       "      <th>3</th>\n",
       "      <td>0</td>\n",
       "      <td>0</td>\n",
       "    </tr>\n",
       "    <tr>\n",
       "      <th>4</th>\n",
       "      <td>0</td>\n",
       "      <td>0</td>\n",
       "    </tr>\n",
       "    <tr>\n",
       "      <th>...</th>\n",
       "      <td>...</td>\n",
       "      <td>...</td>\n",
       "    </tr>\n",
       "    <tr>\n",
       "      <th>1074</th>\n",
       "      <td>1</td>\n",
       "      <td>0</td>\n",
       "    </tr>\n",
       "    <tr>\n",
       "      <th>1075</th>\n",
       "      <td>1</td>\n",
       "      <td>0</td>\n",
       "    </tr>\n",
       "    <tr>\n",
       "      <th>1076</th>\n",
       "      <td>0</td>\n",
       "      <td>0</td>\n",
       "    </tr>\n",
       "    <tr>\n",
       "      <th>1077</th>\n",
       "      <td>0</td>\n",
       "      <td>0</td>\n",
       "    </tr>\n",
       "    <tr>\n",
       "      <th>1078</th>\n",
       "      <td>0</td>\n",
       "      <td>0</td>\n",
       "    </tr>\n",
       "  </tbody>\n",
       "</table>\n",
       "<p>1079 rows × 2 columns</p>\n",
       "</div>"
      ],
      "text/plain": [
       "      Actual_Load  Predicted_Load\n",
       "0               1               1\n",
       "1               0               0\n",
       "2               0               0\n",
       "3               0               0\n",
       "4               0               0\n",
       "...           ...             ...\n",
       "1074            1               0\n",
       "1075            1               0\n",
       "1076            0               0\n",
       "1077            0               0\n",
       "1078            0               0\n",
       "\n",
       "[1079 rows x 2 columns]"
      ]
     },
     "execution_count": 60,
     "metadata": {},
     "output_type": "execute_result"
    }
   ],
   "source": [
    "dataframe"
   ]
  },
  {
   "cell_type": "code",
   "execution_count": 61,
   "id": "6e2bc2dc",
   "metadata": {},
   "outputs": [
    {
     "data": {
      "text/plain": [
       "Actual_Load\n",
       "0    1056\n",
       "1      23\n",
       "Name: count, dtype: int64"
      ]
     },
     "execution_count": 61,
     "metadata": {},
     "output_type": "execute_result"
    }
   ],
   "source": [
    "dataframe[\"Actual_Load\"].value_counts()"
   ]
  },
  {
   "cell_type": "code",
   "execution_count": 62,
   "id": "295bf402",
   "metadata": {},
   "outputs": [
    {
     "data": {
      "text/plain": [
       "Predicted_Load\n",
       "0    1068\n",
       "1      11\n",
       "Name: count, dtype: int64"
      ]
     },
     "execution_count": 62,
     "metadata": {},
     "output_type": "execute_result"
    }
   ],
   "source": [
    "dataframe[\"Predicted_Load\"].value_counts()"
   ]
  },
  {
   "cell_type": "code",
   "execution_count": 63,
   "id": "7ef77aaa",
   "metadata": {},
   "outputs": [
    {
     "name": "stdout",
     "output_type": "stream",
     "text": [
      "Mean Squared Error: 0.012974976830398516\n",
      "Root Mean Squared Error: 0.11390775579563718\n",
      "Mean Absolute Error: 0.012974976830398516\n",
      "R-squared Score: 0.3780467720685111\n"
     ]
    }
   ],
   "source": [
    "# Calculate evaluation metrics\n",
    "mse = mean_squared_error(y_test, y_predict)\n",
    "rmse = np.sqrt(mse)\n",
    "mae = mean_absolute_error(y_test, y_predict)\n",
    "r2 = r2_score(y_test, y_predict)\n",
    "\n",
    "print(\"Mean Squared Error:\", mse)\n",
    "print(\"Root Mean Squared Error:\", rmse)\n",
    "print(\"Mean Absolute Error:\", mae)\n",
    "print(\"R-squared Score:\", r2)"
   ]
  },
  {
   "cell_type": "markdown",
   "id": "ef8fbd9e",
   "metadata": {},
   "source": [
    "# Confustion Matrix"
   ]
  },
  {
   "cell_type": "code",
   "execution_count": 64,
   "id": "7fb30a3c",
   "metadata": {},
   "outputs": [],
   "source": [
    "def display_evaluation(yt, yp):\n",
    "    TN, FP, FN, TP = confusion_matrix(yt, yp).ravel()\n",
    "\n",
    "    print(\"Model: \", model)\n",
    "\n",
    "    print(\"Confusion Matix Values:\")\n",
    "    print(\"TN: \", TN)\n",
    "    print(\"FP: \", FP)\n",
    "    print(\"FN: \", FN)\n",
    "    print(\"TP: \", TP)\n",
    "\n",
    "    SE = TP/(TP+FN)  #sensitivity, recall, hit rate, or true positive rate (TPR)\n",
    "    SP = TN/(TN+FP)  #specificity, selectivity or true negative rate (TNR)\n",
    "    AC = (TP+TN)/(TP+TN+FP+FN)   #accuracy\n",
    "    PR = TP/(TP+FP)   #precision, positive predictive value (PPV)\n",
    "    BCR = 1/2*(SE+SP)   #balanced classification rate\n",
    "    BER = 1-BCR   #balanced error rate\n",
    "    F1 = 2*PR*SE/(PR+SE)   #F1 score\n",
    "    FNR = 1-SE   #miss rate or false negative rate (FNR)\n",
    "    FPR = 1-SP   #fall-out or false positive rate (FPR)\n",
    "    TS = TP/(TP+FP+FN)   #Threat score (TS) or Critical Success Index (CSI)\n",
    "    DC = 2*TP/(2*TP+FP+FN) #Dice Coefficient\n",
    "\n",
    "    print(\"\\nEvaluation Parameters:\")\n",
    "    print('Accuracy:{:.4f}'.format(AC))\n",
    "    print('Sensitivity:{:.4f}'.format(SE))\n",
    "    print('Specificity: {:.4f}'.format(SP))\n",
    "    print('Precision: {:.4f}'.format(PR))\n",
    "    print('F1 Score: {:.4f}'.format(F1))\n",
    "    print('BCR: {:.4f}'.format(BCR))\n",
    "    print('BER: {:.4f}'.format(BER))"
   ]
  },
  {
   "cell_type": "code",
   "execution_count": 65,
   "id": "751d8c26",
   "metadata": {},
   "outputs": [
    {
     "name": "stdout",
     "output_type": "stream",
     "text": [
      "Model:  <keras.engine.sequential.Sequential object at 0x7f048ce8dd30>\n",
      "Confusion Matix Values:\n",
      "TN:  1055\n",
      "FP:  1\n",
      "FN:  13\n",
      "TP:  10\n",
      "\n",
      "Evaluation Parameters:\n",
      "Accuracy:0.9870\n",
      "Sensitivity:0.4348\n",
      "Specificity: 0.9991\n",
      "Precision: 0.9091\n",
      "F1 Score: 0.5882\n",
      "BCR: 0.7169\n",
      "BER: 0.2831\n"
     ]
    }
   ],
   "source": [
    "display_evaluation(y_test, y_predict)"
   ]
  },
  {
   "cell_type": "markdown",
   "id": "7235c7ca",
   "metadata": {},
   "source": [
    "# ROC Curve"
   ]
  },
  {
   "cell_type": "code",
   "execution_count": 66,
   "id": "313c8901",
   "metadata": {},
   "outputs": [
    {
     "data": {
      "image/png": "[encoded data removed]",
      "text/plain": [
       "<Figure size 800x600 with 1 Axes>"
      ]
     },
     "metadata": {},
     "output_type": "display_data"
    }
   ],
   "source": [
    "# Calculate the ROC curve\n",
    "fpr, tpr, thresholds = roc_curve(y_test, y_prediction)\n",
    "\n",
    "# Calculate the area under the ROC curve (AUC)\n",
    "roc_auc = auc(fpr, tpr)\n",
    "\n",
    "# Plot the ROC curve\n",
    "plt.figure(figsize=(8,6), dpi = 100)\n",
    "plt.plot(fpr, tpr, color='darkorange', lw=2, label='ROC curve (area = %0.2f)' % roc_auc)\n",
    "plt.plot([0, 1], [0, 1], color='navy', lw=2, linestyle='--')\n",
    "plt.xlim([0.0, 1.0])\n",
    "plt.ylim([0.0, 1.05])\n",
    "plt.xlabel('False Positive Rate')\n",
    "plt.ylabel('True Positive Rate')\n",
    "plt.title('Receiver Operating Characteristic (ROC)')\n",
    "plt.legend(loc=\"lower right\")\n",
    "plt.savefig(\"ROC_LSTM_2_feature_selection_500_epoches.png\")\n",
    "plt.show()"
   ]
  },
  {
   "cell_type": "code",
   "execution_count": 67,
   "id": "45e3332c",
   "metadata": {},
   "outputs": [
    {
     "name": "stdout",
     "output_type": "stream",
     "text": [
      "              precision    recall  f1-score   support\n",
      "\n",
      "      normal       0.99      1.00      0.99      1056\n",
      "     anomaly       0.91      0.43      0.59        23\n",
      "\n",
      "    accuracy                           0.99      1079\n",
      "   macro avg       0.95      0.72      0.79      1079\n",
      "weighted avg       0.99      0.99      0.98      1079\n",
      "\n"
     ]
    }
   ],
   "source": [
    "# Print classification report\n",
    "print(classification_report(y_test, y_predict, target_names=['normal', 'anomaly']))"
   ]
  },
  {
   "cell_type": "markdown",
   "id": "fe9786dc",
   "metadata": {},
   "source": [
    "# Confustion matrix"
   ]
  },
  {
   "cell_type": "code",
   "execution_count": 49,
   "id": "11823e22",
   "metadata": {},
   "outputs": [
    {
     "data": {
      "image/png": "[encoded data removed]",
      "text/plain": [
       "<Figure size 600x400 with 1 Axes>"
      ]
     },
     "metadata": {},
     "output_type": "display_data"
    }
   ],
   "source": [
    "import seaborn as sns\n",
    "\n",
    "# Define class labels\n",
    "class_labels = ['Normal', 'Anomaly']\n",
    "\n",
    "conf_matrix = confusion_matrix(y_test, y_predict)\n",
    "\n",
    "\n",
    "# Set up a white grid with white text\n",
    "sns.set(style=\"white\")\n",
    "plt.figure(figsize=(6, 4), dpi=100)\n",
    "\n",
    "# Create a heatmap using Seaborn\n",
    "sns.heatmap(conf_matrix, annot=True, fmt=\"d\", cmap=\"YlGnBu\", cbar=False,\n",
    "            annot_kws={\"fontsize\": 12}, linewidths=1, linecolor='black')\n",
    "\n",
    "# Set custom tick labels for x-axis and y-axis\n",
    "tick_labels = class_labels\n",
    "plt.xticks(np.arange(len(tick_labels)) + 0.5, tick_labels, fontsize=12)\n",
    "plt.yticks(np.arange(len(tick_labels)) + 0.5, tick_labels, fontsize=12)\n",
    "\n",
    "# Add labels and title with increased font size\n",
    "plt.xlabel('Predicted', fontsize=12)\n",
    "plt.ylabel('Actual', fontsize=12)\n",
    "plt.title('Confusion Matrix', fontsize=14)\n",
    "\n",
    "# Set tick labels' font size\n",
    "plt.xticks(fontsize=12)\n",
    "plt.yticks(fontsize=12)\n",
    "\n",
    "plt.savefig(\"Confusion_matrix_lstm_2_feature_selection_500_epoches.png\")\n",
    "plt.show()\n"
   ]
  },
  {
   "cell_type": "code",
   "execution_count": null,
   "id": "3f750f87",
   "metadata": {},
   "outputs": [],
   "source": []
  },
  {
   "cell_type": "code",
   "execution_count": null,
   "id": "43337e83",
   "metadata": {},
   "outputs": [],
   "source": []
  },
  {
   "cell_type": "code",
   "execution_count": null,
   "id": "536d6535",
   "metadata": {},
   "outputs": [],
   "source": []
  }
 ],
 "metadata": {
  "kernelspec": {
   "display_name": "Python 3 (ipykernel)",
   "language": "python",
   "name": "python3"
  },
  "language_info": {
   "codemirror_mode": {
    "name": "ipython",
    "version": 3
   },
   "file_extension": ".py",
   "mimetype": "text/x-python",
   "name": "python",
   "nbconvert_exporter": "python",
   "pygments_lexer": "ipython3",
   "version": "3.9.17"
  }
 },
 "nbformat": 4,
 "nbformat_minor": 5
}
